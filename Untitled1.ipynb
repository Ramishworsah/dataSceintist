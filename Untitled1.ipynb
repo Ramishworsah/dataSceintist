{
 "cells": [
  {
   "cell_type": "code",
   "execution_count": null,
   "id": "1d76db57-69f3-44d5-bad2-0db150914da9",
   "metadata": {},
   "outputs": [],
   "source": []
  }
 ],
 "metadata": {
  "kernelspec": {
   "display_name": "",
   "name": ""
  },
  "language_info": {
   "name": ""
  }
 },
 "nbformat": 4,
 "nbformat_minor": 5
}
