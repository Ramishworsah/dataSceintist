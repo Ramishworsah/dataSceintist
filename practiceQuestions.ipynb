{
 "cells": [
  {
   "cell_type": "code",
   "execution_count": 2,
   "id": "42817e02-9e40-44a9-89bf-6f61f9f75064",
   "metadata": {},
   "outputs": [
    {
     "data": {
      "text/plain": [
       "array([ 1,  2,  3,  4,  5,  6,  7,  8,  9, 10])"
      ]
     },
     "execution_count": 2,
     "metadata": {},
     "output_type": "execute_result"
    }
   ],
   "source": [
    "import numpy as np \n",
    "arr=np.arange(1,11)\n",
    "arr"
   ]
  },
  {
   "cell_type": "code",
   "execution_count": 5,
   "id": "753ba8ca-d7d3-4f3d-b9c9-7e424aaae4d5",
   "metadata": {},
   "outputs": [
    {
     "data": {
      "text/plain": [
       "array([0., 0., 0., 0., 0., 0., 0., 0., 0., 0.])"
      ]
     },
     "execution_count": 5,
     "metadata": {},
     "output_type": "execute_result"
    }
   ],
   "source": [
    "arr1=np.zeros(10)\n",
    "arr1"
   ]
  },
  {
   "cell_type": "code",
   "execution_count": 7,
   "id": "0945ad83-b5ec-4d53-87b4-1529080c1beb",
   "metadata": {},
   "outputs": [
    {
     "data": {
      "text/plain": [
       "array([20, 22, 24, 26, 28, 30, 32, 34, 36, 38])"
      ]
     },
     "execution_count": 7,
     "metadata": {},
     "output_type": "execute_result"
    }
   ],
   "source": [
    "arr2=np.arange(20,40,2)\n",
    "arr2"
   ]
  },
  {
   "cell_type": "code",
   "execution_count": 10,
   "id": "71aa689a-5982-4462-82af-96692ca3cc34",
   "metadata": {},
   "outputs": [
    {
     "data": {
      "text/plain": [
       "array([[1., 1., 1.],\n",
       "       [1., 1., 1.],\n",
       "       [1., 1., 1.]])"
      ]
     },
     "execution_count": 10,
     "metadata": {},
     "output_type": "execute_result"
    }
   ],
   "source": [
    "arr=np.ones(9).reshape(3,3)\n",
    "arr"
   ]
  },
  {
   "cell_type": "code",
   "execution_count": 15,
   "id": "2d3d8be4-c9a9-40ef-a32b-f7892d4d247d",
   "metadata": {},
   "outputs": [
    {
     "data": {
      "text/plain": [
       "array([[1, 2, 9, 5],\n",
       "       [1, 5, 4, 4],\n",
       "       [8, 6, 1, 4],\n",
       "       [2, 4, 6, 9]], dtype=int32)"
      ]
     },
     "execution_count": 15,
     "metadata": {},
     "output_type": "execute_result"
    }
   ],
   "source": [
    "arr=np.random.randint(1,10,size=(4,4))\n",
    "arr"
   ]
  },
  {
   "cell_type": "code",
   "execution_count": 16,
   "id": "538dcb80-1d56-4443-8a6f-02fc201ef84a",
   "metadata": {},
   "outputs": [],
   "source": [
    "arr[1,:]=7"
   ]
  },
  {
   "cell_type": "code",
   "execution_count": 17,
   "id": "fdc14595-7b0f-4e5a-ba08-b541f07ea0b6",
   "metadata": {},
   "outputs": [
    {
     "data": {
      "text/plain": [
       "array([[1, 2, 9, 5],\n",
       "       [7, 7, 7, 7],\n",
       "       [8, 6, 1, 4],\n",
       "       [2, 4, 6, 9]], dtype=int32)"
      ]
     },
     "execution_count": 17,
     "metadata": {},
     "output_type": "execute_result"
    }
   ],
   "source": [
    "arr"
   ]
  },
  {
   "cell_type": "code",
   "execution_count": 18,
   "id": "2c30a404-544b-4561-9866-b0af6a393272",
   "metadata": {},
   "outputs": [
    {
     "name": "stdout",
     "output_type": "stream",
     "text": [
      "30\n",
      "40\n",
      "50\n"
     ]
    }
   ],
   "source": [
    "arr=[10,20,30,40,50]\n",
    "for i in arr:\n",
    "    if i>25:\n",
    "        print(i)"
   ]
  },
  {
   "cell_type": "code",
   "execution_count": 21,
   "id": "06800e27-e9e1-4d4d-bf6e-e8e665bb7bcf",
   "metadata": {},
   "outputs": [
    {
     "data": {
      "text/plain": [
       "array([ 6,  6, 15,  7, 19,  6, 13,  3,  5, 10, 15, 15, 15,  6, 11, 13,  8,\n",
       "        6,  9,  3], dtype=int32)"
      ]
     },
     "execution_count": 21,
     "metadata": {},
     "output_type": "execute_result"
    }
   ],
   "source": [
    "arr1=np.random.randint(1,20,size=20)\n",
    "arr1"
   ]
  },
  {
   "cell_type": "code",
   "execution_count": 32,
   "id": "11679aeb-b005-4488-aedb-6dc62d8efeb3",
   "metadata": {},
   "outputs": [
    {
     "name": "stdout",
     "output_type": "stream",
     "text": [
      "min 3\n",
      "max 19\n"
     ]
    }
   ],
   "source": [
    "data={\n",
    "    'min':min(arr1),\n",
    "    'max':max(arr1)\n",
    "}\n",
    "for mod,name in data.items():\n",
    "     print(mod,name)"
   ]
  },
  {
   "cell_type": "code",
   "execution_count": 34,
   "id": "b4304c4f-5f72-4165-8304-066854a1aeb1",
   "metadata": {},
   "outputs": [
    {
     "data": {
      "text/plain": [
       "array([17,  9,  1, 19, 17,  3,  1,  1, 18, 19,  7,  6,  4, 18, 13],\n",
       "      dtype=int32)"
      ]
     },
     "execution_count": 34,
     "metadata": {},
     "output_type": "execute_result"
    }
   ],
   "source": [
    "arr=np.random.randint(1,20,size=15)\n",
    "arr"
   ]
  },
  {
   "cell_type": "code",
   "execution_count": 35,
   "id": "d90d2f10-f49f-4c31-9f7a-4a1a057b62c9",
   "metadata": {},
   "outputs": [
    {
     "data": {
      "text/plain": [
       "<function ndarray.sort>"
      ]
     },
     "execution_count": 35,
     "metadata": {},
     "output_type": "execute_result"
    }
   ],
   "source": [
    "arr.sort"
   ]
  },
  {
   "cell_type": "code",
   "execution_count": 40,
   "id": "18aa8c3b-21ef-4e84-b1fb-d39ecced2dc0",
   "metadata": {},
   "outputs": [],
   "source": [
    "arr1=arr.sort"
   ]
  },
  {
   "cell_type": "code",
   "execution_count": 44,
   "id": "2c7e1f9a-3c75-485b-8d53-bc4a456b701c",
   "metadata": {},
   "outputs": [],
   "source": [
    "arr1=np.sort(arr)"
   ]
  },
  {
   "cell_type": "code",
   "execution_count": 45,
   "id": "13221408-3ccf-48a7-933c-810304429066",
   "metadata": {},
   "outputs": [
    {
     "data": {
      "text/plain": [
       "array([ 1,  1,  1,  3,  4,  6,  7,  9, 13, 17, 17, 18, 18, 19, 19],\n",
       "      dtype=int32)"
      ]
     },
     "execution_count": 45,
     "metadata": {},
     "output_type": "execute_result"
    }
   ],
   "source": [
    "arr1"
   ]
  },
  {
   "cell_type": "code",
   "execution_count": 3,
   "id": "f215f7c2-96bb-47b6-84d8-6c11f353c55d",
   "metadata": {},
   "outputs": [
    {
     "data": {
      "text/plain": [
       "array([0, 1, 2, 3, 4, 5, 6, 7, 8])"
      ]
     },
     "execution_count": 3,
     "metadata": {},
     "output_type": "execute_result"
    }
   ],
   "source": [
    "# 1 create a 1d numpy array with numbers from 0 to 9abs\n",
    "import numpy as np \n",
    "arr=np.arange(0,9)\n",
    "arr"
   ]
  },
  {
   "cell_type": "code",
   "execution_count": 6,
   "id": "2f79b28d-5a08-4958-9aac-20fd902b5dae",
   "metadata": {},
   "outputs": [
    {
     "data": {
      "text/plain": [
       "array([0, 0, 0, 0, 0, 0, 0, 0, 0, 0], dtype=int32)"
      ]
     },
     "execution_count": 6,
     "metadata": {},
     "output_type": "execute_result"
    }
   ],
   "source": [
    "arr1=np.random.randint(0,1,size=10)\n",
    "arr1"
   ]
  },
  {
   "cell_type": "code",
   "execution_count": 8,
   "id": "bb6eedec-ad91-4b1c-8ad7-88d11d9468fa",
   "metadata": {},
   "outputs": [
    {
     "data": {
      "text/plain": [
       "array([10, 20, 30, 40, 50])"
      ]
     },
     "execution_count": 8,
     "metadata": {},
     "output_type": "execute_result"
    }
   ],
   "source": [
    "arr=np.array([10,20,30,40,50])\n",
    "arr"
   ]
  },
  {
   "cell_type": "code",
   "execution_count": 9,
   "id": "bf3a04d8-f536-47a9-8d2d-2276a2ef92c3",
   "metadata": {},
   "outputs": [
    {
     "data": {
      "text/plain": [
       "array([10, 20, 30])"
      ]
     },
     "execution_count": 9,
     "metadata": {},
     "output_type": "execute_result"
    }
   ],
   "source": [
    "arr[0:3]"
   ]
  },
  {
   "cell_type": "code",
   "execution_count": 10,
   "id": "05e3a605-5b4a-4565-91e8-e79a18a58c12",
   "metadata": {},
   "outputs": [
    {
     "data": {
      "text/plain": [
       "array([1, 2, 3, 4, 5])"
      ]
     },
     "execution_count": 10,
     "metadata": {},
     "output_type": "execute_result"
    }
   ],
   "source": [
    "arr1=np.array([1,2,3,4,5])\n",
    "arr1"
   ]
  },
  {
   "cell_type": "code",
   "execution_count": 12,
   "id": "2d8ab854-3a55-4692-b554-4fb1edae83f5",
   "metadata": {},
   "outputs": [
    {
     "data": {
      "text/plain": [
       "array([5, 4, 3, 2, 1])"
      ]
     },
     "execution_count": 12,
     "metadata": {},
     "output_type": "execute_result"
    }
   ],
   "source": [
    "arr1[::-1]"
   ]
  },
  {
   "cell_type": "code",
   "execution_count": 14,
   "id": "52431f9e-a6be-487b-8c53-dca7678c2775",
   "metadata": {},
   "outputs": [
    {
     "data": {
      "text/plain": [
       "array([[9, 6, 4],\n",
       "       [2, 3, 9],\n",
       "       [7, 2, 2]], dtype=int32)"
      ]
     },
     "execution_count": 14,
     "metadata": {},
     "output_type": "execute_result"
    }
   ],
   "source": [
    "arr2=np.random.randint(1,10,size=(3,3))\n",
    "arr2"
   ]
  },
  {
   "cell_type": "code",
   "execution_count": 17,
   "id": "179386b6-9dd5-406e-8ca6-cba86ce02bfb",
   "metadata": {},
   "outputs": [
    {
     "data": {
      "text/plain": [
       "array([[3, 9],\n",
       "       [2, 2]], dtype=int32)"
      ]
     },
     "execution_count": 17,
     "metadata": {},
     "output_type": "execute_result"
    }
   ],
   "source": [
    "arr2[1:,1:]"
   ]
  },
  {
   "cell_type": "code",
   "execution_count": 18,
   "id": "64317b9a-2c74-4b55-ad43-7969fdba3698",
   "metadata": {},
   "outputs": [
    {
     "data": {
      "text/plain": [
       "array([[False,  True,  True],\n",
       "       [ True, False, False],\n",
       "       [False,  True,  True]])"
      ]
     },
     "execution_count": 18,
     "metadata": {},
     "output_type": "execute_result"
    }
   ],
   "source": [
    "bool_index=arr2%2==0\n",
    "bool_index"
   ]
  },
  {
   "cell_type": "code",
   "execution_count": 25,
   "id": "63b74cfb-e456-473d-973a-81c66cc7e8c3",
   "metadata": {},
   "outputs": [
    {
     "ename": "IndexError",
     "evalue": "too many indices for array: array is 1-dimensional, but 2 were indexed",
     "output_type": "error",
     "traceback": [
      "\u001b[1;31m---------------------------------------------------------------------------\u001b[0m",
      "\u001b[1;31mIndexError\u001b[0m                                Traceback (most recent call last)",
      "Cell \u001b[1;32mIn[25], line 1\u001b[0m\n\u001b[1;32m----> 1\u001b[0m arr\u001b[38;5;241m=\u001b[39m\u001b[43marr2\u001b[49m\u001b[43m[\u001b[49m\u001b[43mbool_index\u001b[49m\u001b[43m]\u001b[49m\n",
      "\u001b[1;31mIndexError\u001b[0m: too many indices for array: array is 1-dimensional, but 2 were indexed"
     ]
    }
   ],
   "source": [
    "arr=arr2[bool_index]"
   ]
  },
  {
   "cell_type": "code",
   "execution_count": 27,
   "id": "3cf2012e-3b00-4688-a4ab-131a0fb513d9",
   "metadata": {},
   "outputs": [
    {
     "data": {
      "text/plain": [
       "array([ 1,  2,  3,  4,  5,  6,  7,  8,  9, 10, 11, 12, 13, 14, 15, 16, 17,\n",
       "       18, 19, 20])"
      ]
     },
     "execution_count": 27,
     "metadata": {},
     "output_type": "execute_result"
    }
   ],
   "source": [
    "arr=np.arange(1,21)\n",
    "arr"
   ]
  },
  {
   "cell_type": "code",
   "execution_count": 28,
   "id": "874919b5-97c9-4de1-9faf-6b5e61c8d54a",
   "metadata": {},
   "outputs": [
    {
     "data": {
      "text/plain": [
       "array([False,  True, False,  True, False,  True, False,  True, False,\n",
       "        True, False,  True, False,  True, False,  True, False,  True,\n",
       "       False,  True])"
      ]
     },
     "execution_count": 28,
     "metadata": {},
     "output_type": "execute_result"
    }
   ],
   "source": [
    "bool_index=arr%2==0\n",
    "bool_index"
   ]
  },
  {
   "cell_type": "code",
   "execution_count": 29,
   "id": "931a3869-1146-4ed1-b3d5-b856d2b119ed",
   "metadata": {},
   "outputs": [],
   "source": [
    "arr=arr[bool_index]"
   ]
  },
  {
   "cell_type": "code",
   "execution_count": 30,
   "id": "3c5cd006-ba71-48b5-9886-fd3cfb767c07",
   "metadata": {},
   "outputs": [
    {
     "data": {
      "text/plain": [
       "array([ 2,  4,  6,  8, 10, 12, 14, 16, 18, 20])"
      ]
     },
     "execution_count": 30,
     "metadata": {},
     "output_type": "execute_result"
    }
   ],
   "source": [
    "arr"
   ]
  },
  {
   "cell_type": "code",
   "execution_count": 34,
   "id": "7f6534b1-8277-4002-8bd6-42f7a12607cf",
   "metadata": {},
   "outputs": [
    {
     "data": {
      "text/plain": [
       "array([ 7,  9, 11, 13, 15])"
      ]
     },
     "execution_count": 34,
     "metadata": {},
     "output_type": "execute_result"
    }
   ],
   "source": [
    "#Add two numpy array element wise \n",
    "\n",
    "arr1=np.array([1,2,3,4,5])\n",
    "arr2=np.array([6,7,8,9,10])\n",
    "sum=arr1+arr2\n",
    "sum"
   ]
  },
  {
   "cell_type": "code",
   "execution_count": 36,
   "id": "bc84d4e5-8959-4ec8-aab5-e574f190dc98",
   "metadata": {},
   "outputs": [
    {
     "data": {
      "text/plain": [
       "array([ 6, 14, 24, 36, 50])"
      ]
     },
     "execution_count": 36,
     "metadata": {},
     "output_type": "execute_result"
    }
   ],
   "source": [
    "mult=arr1*arr2\n",
    "mult"
   ]
  },
  {
   "cell_type": "code",
   "execution_count": 38,
   "id": "c3fe68af-0267-4731-a9df-4538346a15e2",
   "metadata": {},
   "outputs": [
    {
     "data": {
      "text/plain": [
       "np.int64(130)"
      ]
     },
     "execution_count": 38,
     "metadata": {},
     "output_type": "execute_result"
    }
   ],
   "source": [
    "c=np.dot(arr1,arr2)\n",
    "c"
   ]
  },
  {
   "cell_type": "code",
   "execution_count": 39,
   "id": "6ac5c102-8978-4e0d-8b43-c5388c200ddb",
   "metadata": {},
   "outputs": [],
   "source": [
    "A = np.array([[1, 2, 3],\n",
    "              [4, 5, 6]])\n",
    "\n",
    "B = np.array([[7, 8],\n",
    "              [9, 10],\n",
    "              [11, 12]])"
   ]
  },
  {
   "cell_type": "code",
   "execution_count": 40,
   "id": "fdb2ae8d-9555-44bb-af3e-6387fc91b309",
   "metadata": {},
   "outputs": [],
   "source": [
    "c=np.dot(A,B)"
   ]
  },
  {
   "cell_type": "code",
   "execution_count": 41,
   "id": "2da18dd4-95bb-422d-b857-0327fa66fae4",
   "metadata": {},
   "outputs": [
    {
     "data": {
      "text/plain": [
       "array([[ 58,  64],\n",
       "       [139, 154]])"
      ]
     },
     "execution_count": 41,
     "metadata": {},
     "output_type": "execute_result"
    }
   ],
   "source": [
    "c"
   ]
  },
  {
   "cell_type": "code",
   "execution_count": 42,
   "id": "e6daf2ad-4044-4578-9a9a-0244397c14f2",
   "metadata": {},
   "outputs": [],
   "source": [
    "a=np.random.randint(1,9,size=(2,3))\n",
    "b=np.random.randint(9,15,size=(3,2))"
   ]
  },
  {
   "cell_type": "code",
   "execution_count": 43,
   "id": "2002437f-0bca-40ee-8f21-0ad136b2b54a",
   "metadata": {},
   "outputs": [],
   "source": [
    "c=np.dot(a,b)"
   ]
  },
  {
   "cell_type": "code",
   "execution_count": 44,
   "id": "6798e534-31a7-42cc-ae2b-fb09d1fcae53",
   "metadata": {},
   "outputs": [
    {
     "data": {
      "text/plain": [
       "array([[164, 147],\n",
       "       [138, 107]], dtype=int32)"
      ]
     },
     "execution_count": 44,
     "metadata": {},
     "output_type": "execute_result"
    }
   ],
   "source": [
    "c"
   ]
  },
  {
   "cell_type": "code",
   "execution_count": 45,
   "id": "537ffec2-183b-40f4-b252-459e3bf05110",
   "metadata": {},
   "outputs": [
    {
     "data": {
      "text/plain": [
       "array([[5, 3, 5],\n",
       "       [1, 7, 3]], dtype=int32)"
      ]
     },
     "execution_count": 45,
     "metadata": {},
     "output_type": "execute_result"
    }
   ],
   "source": [
    "a"
   ]
  },
  {
   "cell_type": "code",
   "execution_count": 46,
   "id": "c244aa32-f6d6-409d-9cca-8f3ec636337f",
   "metadata": {},
   "outputs": [
    {
     "data": {
      "text/plain": [
       "array([[14, 14],\n",
       "       [13,  9],\n",
       "       [11, 10]], dtype=int32)"
      ]
     },
     "execution_count": 46,
     "metadata": {},
     "output_type": "execute_result"
    }
   ],
   "source": [
    "b"
   ]
  },
  {
   "cell_type": "raw",
   "id": "e94ba629-eb21-47fd-b353-c3e25f1097a4",
   "metadata": {},
   "source": []
  },
  {
   "cell_type": "code",
   "execution_count": 54,
   "id": "46a8c2dd-2b44-4cc3-8ccd-3f13a0d03d3a",
   "metadata": {},
   "outputs": [
    {
     "data": {
      "text/plain": [
       "np.float64(4.0)"
      ]
     },
     "execution_count": 54,
     "metadata": {},
     "output_type": "execute_result"
    }
   ],
   "source": [
    "mean_value=np.mean(a)\n",
    "standrad_value=np.std(a)\n",
    "median_value=np.median(a)\n",
    "mean_value\n",
    "# standrad_value"
   ]
  },
  {
   "cell_type": "code",
   "execution_count": 55,
   "id": "f8a65f25-2821-482e-89ca-c3d699928070",
   "metadata": {},
   "outputs": [
    {
     "data": {
      "text/plain": [
       "np.float64(1.9148542155126762)"
      ]
     },
     "execution_count": 55,
     "metadata": {},
     "output_type": "execute_result"
    }
   ],
   "source": [
    "standrad_value"
   ]
  },
  {
   "cell_type": "code",
   "execution_count": 56,
   "id": "46a3b439-310e-4c21-823f-96ec20b228b0",
   "metadata": {},
   "outputs": [
    {
     "data": {
      "text/plain": [
       "np.float64(4.0)"
      ]
     },
     "execution_count": 56,
     "metadata": {},
     "output_type": "execute_result"
    }
   ],
   "source": [
    "median_value"
   ]
  },
  {
   "cell_type": "code",
   "execution_count": 58,
   "id": "c0394813-8768-45b5-8f9b-dc52a20f5fd7",
   "metadata": {},
   "outputs": [],
   "source": [
    "import pandas as pd "
   ]
  },
  {
   "cell_type": "code",
   "execution_count": 60,
   "id": "063463ea-f7b2-420b-8368-66ca36c35584",
   "metadata": {},
   "outputs": [
    {
     "data": {
      "text/html": [
       "<div>\n",
       "<style scoped>\n",
       "    .dataframe tbody tr th:only-of-type {\n",
       "        vertical-align: middle;\n",
       "    }\n",
       "\n",
       "    .dataframe tbody tr th {\n",
       "        vertical-align: top;\n",
       "    }\n",
       "\n",
       "    .dataframe thead th {\n",
       "        text-align: right;\n",
       "    }\n",
       "</style>\n",
       "<table border=\"1\" class=\"dataframe\">\n",
       "  <thead>\n",
       "    <tr style=\"text-align: right;\">\n",
       "      <th></th>\n",
       "      <th>Name</th>\n",
       "      <th>Math</th>\n",
       "      <th>Science</th>\n",
       "      <th>English</th>\n",
       "      <th>History</th>\n",
       "    </tr>\n",
       "  </thead>\n",
       "  <tbody>\n",
       "    <tr>\n",
       "      <th>0</th>\n",
       "      <td>Alice</td>\n",
       "      <td>78</td>\n",
       "      <td>85</td>\n",
       "      <td>92</td>\n",
       "      <td>74</td>\n",
       "    </tr>\n",
       "    <tr>\n",
       "      <th>1</th>\n",
       "      <td>Bob</td>\n",
       "      <td>56</td>\n",
       "      <td>64</td>\n",
       "      <td>70</td>\n",
       "      <td>60</td>\n",
       "    </tr>\n",
       "    <tr>\n",
       "      <th>2</th>\n",
       "      <td>Charlie</td>\n",
       "      <td>90</td>\n",
       "      <td>88</td>\n",
       "      <td>94</td>\n",
       "      <td>86</td>\n",
       "    </tr>\n",
       "    <tr>\n",
       "      <th>3</th>\n",
       "      <td>David</td>\n",
       "      <td>65</td>\n",
       "      <td>70</td>\n",
       "      <td>72</td>\n",
       "      <td>68</td>\n",
       "    </tr>\n",
       "    <tr>\n",
       "      <th>4</th>\n",
       "      <td>Eva</td>\n",
       "      <td>88</td>\n",
       "      <td>92</td>\n",
       "      <td>85</td>\n",
       "      <td>90</td>\n",
       "    </tr>\n",
       "  </tbody>\n",
       "</table>\n",
       "</div>"
      ],
      "text/plain": [
       "      Name  Math  Science  English  History\n",
       "0    Alice    78       85       92       74\n",
       "1      Bob    56       64       70       60\n",
       "2  Charlie    90       88       94       86\n",
       "3    David    65       70       72       68\n",
       "4      Eva    88       92       85       90"
      ]
     },
     "execution_count": 60,
     "metadata": {},
     "output_type": "execute_result"
    }
   ],
   "source": [
    "data =pd.DataFrame ({\n",
    "    \"Name\": [\"Alice\", \"Bob\", \"Charlie\", \"David\", \"Eva\"],\n",
    "    \"Math\": [78, 56, 90, 65, 88],\n",
    "    \"Science\": [85, 64, 88, 70, 92],\n",
    "    \"English\": [92, 70, 94, 72, 85],\n",
    "    \"History\": [74, 60, 86, 68, 90]\n",
    "})\n",
    "data"
   ]
  },
  {
   "cell_type": "code",
   "execution_count": 62,
   "id": "9a985e7f-5000-4a45-b90f-2cdf60adf7a7",
   "metadata": {},
   "outputs": [
    {
     "data": {
      "text/plain": [
       "array([78, 56, 90, 65, 88])"
      ]
     },
     "execution_count": 62,
     "metadata": {},
     "output_type": "execute_result"
    }
   ],
   "source": [
    "#compute statistics mean ,median std deviation for each subject \n",
    "\n",
    "#using numpyA\n",
    "math=np.array(data['Math'])\n",
    "math"
   ]
  },
  {
   "cell_type": "code",
   "execution_count": 63,
   "id": "34b156bc-f1ce-45b6-aace-a4f66bac7322",
   "metadata": {},
   "outputs": [],
   "source": [
    "sceince=np.array([data['Science']])\n",
    "english=np.array([data['English']])\n",
    "history=np.array([data['History']])"
   ]
  },
  {
   "cell_type": "code",
   "execution_count": 68,
   "id": "d9692389-dab1-4345-9e02-141a9c3652b9",
   "metadata": {},
   "outputs": [
    {
     "data": {
      "text/plain": [
       "np.float64(13.139254164525473)"
      ]
     },
     "execution_count": 68,
     "metadata": {},
     "output_type": "execute_result"
    }
   ],
   "source": [
    "mean_value=np.mean(math)\n",
    "median_value=np.median(math)\n",
    "standrad_value=np.std(math)\n"
   ]
  },
  {
   "cell_type": "code",
   "execution_count": 70,
   "id": "638b719c-f302-4108-8255-0b9313752f21",
   "metadata": {},
   "outputs": [
    {
     "data": {
      "text/plain": [
       "np.float64(75.4)"
      ]
     },
     "execution_count": 70,
     "metadata": {},
     "output_type": "execute_result"
    }
   ],
   "source": [
    "mean_value\n"
   ]
  },
  {
   "cell_type": "code",
   "execution_count": 71,
   "id": "29ad69e1-eef9-481b-b66f-b22701f35a78",
   "metadata": {},
   "outputs": [
    {
     "data": {
      "text/plain": [
       "np.float64(78.0)"
      ]
     },
     "execution_count": 71,
     "metadata": {},
     "output_type": "execute_result"
    }
   ],
   "source": [
    "median_value\n"
   ]
  },
  {
   "cell_type": "code",
   "execution_count": 72,
   "id": "28473967-2875-4f4a-a238-a7a05c6e4ada",
   "metadata": {},
   "outputs": [
    {
     "data": {
      "text/plain": [
       "np.float64(13.139254164525473)"
      ]
     },
     "execution_count": 72,
     "metadata": {},
     "output_type": "execute_result"
    }
   ],
   "source": [
    "standrad_value"
   ]
  },
  {
   "cell_type": "code",
   "execution_count": 76,
   "id": "2c240be0-f5f6-4e3a-af1c-eeed4a545b07",
   "metadata": {},
   "outputs": [],
   "source": [
    "#for sceince student \n",
    "mean_value=np.mean(sceince)\n",
    "median_value=np.median(sceince)\n",
    "standrad_value=np.std(sceince)\n",
    "\n"
   ]
  },
  {
   "cell_type": "code",
   "execution_count": 77,
   "id": "bf46686d-45d7-4ada-b93b-3ab77ee5199d",
   "metadata": {},
   "outputs": [
    {
     "data": {
      "text/plain": [
       "np.float64(79.8)"
      ]
     },
     "execution_count": 77,
     "metadata": {},
     "output_type": "execute_result"
    }
   ],
   "source": [
    "mean_value"
   ]
  },
  {
   "cell_type": "code",
   "execution_count": 78,
   "id": "71992a20-1b5c-4f2a-961e-cec7c17ab001",
   "metadata": {},
   "outputs": [
    {
     "data": {
      "text/plain": [
       "np.float64(85.0)"
      ]
     },
     "execution_count": 78,
     "metadata": {},
     "output_type": "execute_result"
    }
   ],
   "source": [
    "median_value"
   ]
  },
  {
   "cell_type": "code",
   "execution_count": 79,
   "id": "7afdaee3-ee32-4b4e-ae72-886852bd5c88",
   "metadata": {},
   "outputs": [
    {
     "data": {
      "text/plain": [
       "np.float64(10.85172797300043)"
      ]
     },
     "execution_count": 79,
     "metadata": {},
     "output_type": "execute_result"
    }
   ],
   "source": [
    "standrad_value"
   ]
  },
  {
   "cell_type": "code",
   "execution_count": 80,
   "id": "ab489416-01d5-4320-9d0e-6eff4eb94ab8",
   "metadata": {},
   "outputs": [],
   "source": [
    "#for english \n",
    "mean_value=np.mean(english)\n",
    "median_value=np.median(english)\n",
    "standrad_value=np.std(english)\n"
   ]
  },
  {
   "cell_type": "code",
   "execution_count": 81,
   "id": "4d89fbc4-aa37-4f30-b3b4-3d144fe9a19f",
   "metadata": {},
   "outputs": [
    {
     "data": {
      "text/plain": [
       "np.float64(85.0)"
      ]
     },
     "execution_count": 81,
     "metadata": {},
     "output_type": "execute_result"
    }
   ],
   "source": [
    "median_value"
   ]
  },
  {
   "cell_type": "code",
   "execution_count": 82,
   "id": "4653870e-9a99-4238-bb5f-776404de858a",
   "metadata": {},
   "outputs": [
    {
     "data": {
      "text/plain": [
       "np.float64(82.6)"
      ]
     },
     "execution_count": 82,
     "metadata": {},
     "output_type": "execute_result"
    }
   ],
   "source": [
    "mean_value"
   ]
  },
  {
   "cell_type": "code",
   "execution_count": 83,
   "id": "e993e11b-a226-474d-b83a-3f04804275f7",
   "metadata": {},
   "outputs": [
    {
     "data": {
      "text/plain": [
       "np.float64(9.951884243699782)"
      ]
     },
     "execution_count": 83,
     "metadata": {},
     "output_type": "execute_result"
    }
   ],
   "source": [
    "standrad_value"
   ]
  },
  {
   "cell_type": "code",
   "execution_count": 84,
   "id": "5238dc21-2b5f-426b-8edc-aa4f130de171",
   "metadata": {},
   "outputs": [],
   "source": [
    "mean_value=np.mean(history)\n",
    "median_value=np.median(history)\n",
    "standrad_value=np.std(history)\n"
   ]
  },
  {
   "cell_type": "code",
   "execution_count": 85,
   "id": "f74248bb-5261-4b90-8af9-c68bfd572343",
   "metadata": {},
   "outputs": [
    {
     "data": {
      "text/plain": [
       "np.float64(75.6)"
      ]
     },
     "execution_count": 85,
     "metadata": {},
     "output_type": "execute_result"
    }
   ],
   "source": [
    "mean_value"
   ]
  },
  {
   "cell_type": "markdown",
   "id": "89ccbabd-e38c-4e93-9d46-6007f470d799",
   "metadata": {},
   "source": []
  },
  {
   "cell_type": "code",
   "execution_count": 86,
   "id": "9fc1aeab-cb34-4a8f-938f-855a339081f1",
   "metadata": {},
   "outputs": [
    {
     "data": {
      "text/plain": [
       "np.float64(74.0)"
      ]
     },
     "execution_count": 86,
     "metadata": {},
     "output_type": "execute_result"
    }
   ],
   "source": [
    "median_value"
   ]
  },
  {
   "cell_type": "code",
   "execution_count": 87,
   "id": "e636179e-2c35-4e4c-abdc-2f6359bd43a0",
   "metadata": {},
   "outputs": [
    {
     "data": {
      "text/plain": [
       "np.float64(11.128342194594845)"
      ]
     },
     "execution_count": 87,
     "metadata": {},
     "output_type": "execute_result"
    }
   ],
   "source": [
    "standrad_value"
   ]
  },
  {
   "cell_type": "code",
   "execution_count": 88,
   "id": "c2b9739a-2e7a-4f28-a427-f50563dea124",
   "metadata": {},
   "outputs": [
    {
     "data": {
      "text/html": [
       "<div>\n",
       "<style scoped>\n",
       "    .dataframe tbody tr th:only-of-type {\n",
       "        vertical-align: middle;\n",
       "    }\n",
       "\n",
       "    .dataframe tbody tr th {\n",
       "        vertical-align: top;\n",
       "    }\n",
       "\n",
       "    .dataframe thead th {\n",
       "        text-align: right;\n",
       "    }\n",
       "</style>\n",
       "<table border=\"1\" class=\"dataframe\">\n",
       "  <thead>\n",
       "    <tr style=\"text-align: right;\">\n",
       "      <th></th>\n",
       "      <th>Name</th>\n",
       "      <th>Math</th>\n",
       "      <th>Science</th>\n",
       "      <th>English</th>\n",
       "      <th>History</th>\n",
       "    </tr>\n",
       "  </thead>\n",
       "  <tbody>\n",
       "    <tr>\n",
       "      <th>0</th>\n",
       "      <td>Alice</td>\n",
       "      <td>78</td>\n",
       "      <td>85</td>\n",
       "      <td>92</td>\n",
       "      <td>74</td>\n",
       "    </tr>\n",
       "    <tr>\n",
       "      <th>1</th>\n",
       "      <td>Bob</td>\n",
       "      <td>56</td>\n",
       "      <td>64</td>\n",
       "      <td>70</td>\n",
       "      <td>60</td>\n",
       "    </tr>\n",
       "    <tr>\n",
       "      <th>2</th>\n",
       "      <td>Charlie</td>\n",
       "      <td>90</td>\n",
       "      <td>88</td>\n",
       "      <td>94</td>\n",
       "      <td>86</td>\n",
       "    </tr>\n",
       "    <tr>\n",
       "      <th>3</th>\n",
       "      <td>David</td>\n",
       "      <td>65</td>\n",
       "      <td>70</td>\n",
       "      <td>72</td>\n",
       "      <td>68</td>\n",
       "    </tr>\n",
       "    <tr>\n",
       "      <th>4</th>\n",
       "      <td>Eva</td>\n",
       "      <td>88</td>\n",
       "      <td>92</td>\n",
       "      <td>85</td>\n",
       "      <td>90</td>\n",
       "    </tr>\n",
       "  </tbody>\n",
       "</table>\n",
       "</div>"
      ],
      "text/plain": [
       "      Name  Math  Science  English  History\n",
       "0    Alice    78       85       92       74\n",
       "1      Bob    56       64       70       60\n",
       "2  Charlie    90       88       94       86\n",
       "3    David    65       70       72       68\n",
       "4      Eva    88       92       85       90"
      ]
     },
     "execution_count": 88,
     "metadata": {},
     "output_type": "execute_result"
    }
   ],
   "source": [
    "data"
   ]
  },
  {
   "cell_type": "code",
   "execution_count": 93,
   "id": "43fd90b9-c443-4ca2-a9ef-cd5935e5cd9e",
   "metadata": {},
   "outputs": [
    {
     "name": "stdout",
     "output_type": "stream",
     "text": [
      "Topper in each subject: {'Math': 'Charlie', 'Science': 'Eva', 'English': 'Charlie', 'History': 'Eva'}\n"
     ]
    }
   ],
   "source": [
    "# Topper in each subject\n",
    "subject_toppers = {}\n",
    "for subject in [\"Math\", \"Science\", \"English\", \"History\"]:\n",
    "    topper = data.loc[data[subject].idxmax()]\n",
    "    subject_toppers[subject] = topper[\"Name\"]\n",
    "\n",
    "print(\"Topper in each subject:\", subject_toppers)\n"
   ]
  },
  {
   "cell_type": "code",
   "execution_count": 97,
   "id": "ac71e639-16c2-415b-968f-583f02b4fa69",
   "metadata": {},
   "outputs": [
    {
     "data": {
      "text/html": [
       "<div>\n",
       "<style scoped>\n",
       "    .dataframe tbody tr th:only-of-type {\n",
       "        vertical-align: middle;\n",
       "    }\n",
       "\n",
       "    .dataframe tbody tr th {\n",
       "        vertical-align: top;\n",
       "    }\n",
       "\n",
       "    .dataframe thead th {\n",
       "        text-align: right;\n",
       "    }\n",
       "</style>\n",
       "<table border=\"1\" class=\"dataframe\">\n",
       "  <thead>\n",
       "    <tr style=\"text-align: right;\">\n",
       "      <th></th>\n",
       "      <th>Name</th>\n",
       "      <th>Math</th>\n",
       "      <th>Science</th>\n",
       "      <th>English</th>\n",
       "      <th>History</th>\n",
       "      <th>TotalMarks</th>\n",
       "    </tr>\n",
       "  </thead>\n",
       "  <tbody>\n",
       "    <tr>\n",
       "      <th>0</th>\n",
       "      <td>Alice</td>\n",
       "      <td>78</td>\n",
       "      <td>85</td>\n",
       "      <td>92</td>\n",
       "      <td>74</td>\n",
       "      <td>329</td>\n",
       "    </tr>\n",
       "    <tr>\n",
       "      <th>1</th>\n",
       "      <td>Bob</td>\n",
       "      <td>56</td>\n",
       "      <td>64</td>\n",
       "      <td>70</td>\n",
       "      <td>60</td>\n",
       "      <td>250</td>\n",
       "    </tr>\n",
       "    <tr>\n",
       "      <th>2</th>\n",
       "      <td>Charlie</td>\n",
       "      <td>90</td>\n",
       "      <td>88</td>\n",
       "      <td>94</td>\n",
       "      <td>86</td>\n",
       "      <td>358</td>\n",
       "    </tr>\n",
       "    <tr>\n",
       "      <th>3</th>\n",
       "      <td>David</td>\n",
       "      <td>65</td>\n",
       "      <td>70</td>\n",
       "      <td>72</td>\n",
       "      <td>68</td>\n",
       "      <td>275</td>\n",
       "    </tr>\n",
       "    <tr>\n",
       "      <th>4</th>\n",
       "      <td>Eva</td>\n",
       "      <td>88</td>\n",
       "      <td>92</td>\n",
       "      <td>85</td>\n",
       "      <td>90</td>\n",
       "      <td>355</td>\n",
       "    </tr>\n",
       "  </tbody>\n",
       "</table>\n",
       "</div>"
      ],
      "text/plain": [
       "      Name  Math  Science  English  History  TotalMarks\n",
       "0    Alice    78       85       92       74         329\n",
       "1      Bob    56       64       70       60         250\n",
       "2  Charlie    90       88       94       86         358\n",
       "3    David    65       70       72       68         275\n",
       "4      Eva    88       92       85       90         355"
      ]
     },
     "execution_count": 97,
     "metadata": {},
     "output_type": "execute_result"
    }
   ],
   "source": [
    "data['TotalMarks']=data[['Math','Science','English','History']].sum(axis=1)\n",
    "data"
   ]
  },
  {
   "cell_type": "code",
   "execution_count": 99,
   "id": "1f62d4e3-2652-4ef2-9116-1fc11d3e2c5e",
   "metadata": {},
   "outputs": [
    {
     "data": {
      "text/html": [
       "<div>\n",
       "<style scoped>\n",
       "    .dataframe tbody tr th:only-of-type {\n",
       "        vertical-align: middle;\n",
       "    }\n",
       "\n",
       "    .dataframe tbody tr th {\n",
       "        vertical-align: top;\n",
       "    }\n",
       "\n",
       "    .dataframe thead th {\n",
       "        text-align: right;\n",
       "    }\n",
       "</style>\n",
       "<table border=\"1\" class=\"dataframe\">\n",
       "  <thead>\n",
       "    <tr style=\"text-align: right;\">\n",
       "      <th></th>\n",
       "      <th>Name</th>\n",
       "      <th>Math</th>\n",
       "      <th>Science</th>\n",
       "      <th>English</th>\n",
       "      <th>History</th>\n",
       "      <th>TotalMarks</th>\n",
       "      <th>Percentage</th>\n",
       "    </tr>\n",
       "  </thead>\n",
       "  <tbody>\n",
       "    <tr>\n",
       "      <th>0</th>\n",
       "      <td>Alice</td>\n",
       "      <td>78</td>\n",
       "      <td>85</td>\n",
       "      <td>92</td>\n",
       "      <td>74</td>\n",
       "      <td>329</td>\n",
       "      <td>82.25</td>\n",
       "    </tr>\n",
       "    <tr>\n",
       "      <th>1</th>\n",
       "      <td>Bob</td>\n",
       "      <td>56</td>\n",
       "      <td>64</td>\n",
       "      <td>70</td>\n",
       "      <td>60</td>\n",
       "      <td>250</td>\n",
       "      <td>62.50</td>\n",
       "    </tr>\n",
       "    <tr>\n",
       "      <th>2</th>\n",
       "      <td>Charlie</td>\n",
       "      <td>90</td>\n",
       "      <td>88</td>\n",
       "      <td>94</td>\n",
       "      <td>86</td>\n",
       "      <td>358</td>\n",
       "      <td>89.50</td>\n",
       "    </tr>\n",
       "    <tr>\n",
       "      <th>3</th>\n",
       "      <td>David</td>\n",
       "      <td>65</td>\n",
       "      <td>70</td>\n",
       "      <td>72</td>\n",
       "      <td>68</td>\n",
       "      <td>275</td>\n",
       "      <td>68.75</td>\n",
       "    </tr>\n",
       "    <tr>\n",
       "      <th>4</th>\n",
       "      <td>Eva</td>\n",
       "      <td>88</td>\n",
       "      <td>92</td>\n",
       "      <td>85</td>\n",
       "      <td>90</td>\n",
       "      <td>355</td>\n",
       "      <td>88.75</td>\n",
       "    </tr>\n",
       "  </tbody>\n",
       "</table>\n",
       "</div>"
      ],
      "text/plain": [
       "      Name  Math  Science  English  History  TotalMarks  Percentage\n",
       "0    Alice    78       85       92       74         329       82.25\n",
       "1      Bob    56       64       70       60         250       62.50\n",
       "2  Charlie    90       88       94       86         358       89.50\n",
       "3    David    65       70       72       68         275       68.75\n",
       "4      Eva    88       92       85       90         355       88.75"
      ]
     },
     "execution_count": 99,
     "metadata": {},
     "output_type": "execute_result"
    }
   ],
   "source": [
    "data['Percentage']=data['TotalMarks']/4\n",
    "data"
   ]
  },
  {
   "cell_type": "code",
   "execution_count": 104,
   "id": "e04eaf27-2014-4db0-a199-27601bbe01ac",
   "metadata": {},
   "outputs": [
    {
     "data": {
      "text/plain": [
       "np.float64(0.9754276672238572)"
      ]
     },
     "execution_count": 104,
     "metadata": {},
     "output_type": "execute_result"
    }
   ],
   "source": [
    "correlation = data[\"Science\"].corr(data[\"Math\"])\n",
    "correlation"
   ]
  },
  {
   "cell_type": "code",
   "execution_count": 106,
   "id": "3aa32650-612e-4174-af8d-a3254246d6e9",
   "metadata": {},
   "outputs": [],
   "source": [
    "#for normalizations\n",
    "subjects = data[[\"Math\", \"Science\", \"English\", \"History\"]]\n",
    "normalized = (subjects - subjects.min()) / (subjects.max() - subjects.min()) * 100\n",
    "\n"
   ]
  },
  {
   "cell_type": "code",
   "execution_count": 108,
   "id": "d508cb5e-21b0-4cdf-a712-3dd7064ee956",
   "metadata": {},
   "outputs": [
    {
     "data": {
      "text/html": [
       "<div>\n",
       "<style scoped>\n",
       "    .dataframe tbody tr th:only-of-type {\n",
       "        vertical-align: middle;\n",
       "    }\n",
       "\n",
       "    .dataframe tbody tr th {\n",
       "        vertical-align: top;\n",
       "    }\n",
       "\n",
       "    .dataframe thead th {\n",
       "        text-align: right;\n",
       "    }\n",
       "</style>\n",
       "<table border=\"1\" class=\"dataframe\">\n",
       "  <thead>\n",
       "    <tr style=\"text-align: right;\">\n",
       "      <th></th>\n",
       "      <th>Name</th>\n",
       "      <th>Math</th>\n",
       "      <th>Science</th>\n",
       "      <th>English</th>\n",
       "      <th>History</th>\n",
       "    </tr>\n",
       "  </thead>\n",
       "  <tbody>\n",
       "    <tr>\n",
       "      <th>0</th>\n",
       "      <td>Alice</td>\n",
       "      <td>64.705882</td>\n",
       "      <td>75.000000</td>\n",
       "      <td>91.666667</td>\n",
       "      <td>46.666667</td>\n",
       "    </tr>\n",
       "    <tr>\n",
       "      <th>1</th>\n",
       "      <td>Bob</td>\n",
       "      <td>0.000000</td>\n",
       "      <td>0.000000</td>\n",
       "      <td>0.000000</td>\n",
       "      <td>0.000000</td>\n",
       "    </tr>\n",
       "    <tr>\n",
       "      <th>2</th>\n",
       "      <td>Charlie</td>\n",
       "      <td>100.000000</td>\n",
       "      <td>85.714286</td>\n",
       "      <td>100.000000</td>\n",
       "      <td>86.666667</td>\n",
       "    </tr>\n",
       "    <tr>\n",
       "      <th>3</th>\n",
       "      <td>David</td>\n",
       "      <td>26.470588</td>\n",
       "      <td>21.428571</td>\n",
       "      <td>8.333333</td>\n",
       "      <td>26.666667</td>\n",
       "    </tr>\n",
       "    <tr>\n",
       "      <th>4</th>\n",
       "      <td>Eva</td>\n",
       "      <td>94.117647</td>\n",
       "      <td>100.000000</td>\n",
       "      <td>62.500000</td>\n",
       "      <td>100.000000</td>\n",
       "    </tr>\n",
       "  </tbody>\n",
       "</table>\n",
       "</div>"
      ],
      "text/plain": [
       "      Name        Math     Science     English     History\n",
       "0    Alice   64.705882   75.000000   91.666667   46.666667\n",
       "1      Bob    0.000000    0.000000    0.000000    0.000000\n",
       "2  Charlie  100.000000   85.714286  100.000000   86.666667\n",
       "3    David   26.470588   21.428571    8.333333   26.666667\n",
       "4      Eva   94.117647  100.000000   62.500000  100.000000"
      ]
     },
     "execution_count": 108,
     "metadata": {},
     "output_type": "execute_result"
    }
   ],
   "source": [
    "df_normalized = pd.concat([data[\"Name\"], normalized], axis=1)\n",
    "df_normalized\n"
   ]
  },
  {
   "cell_type": "code",
   "execution_count": 109,
   "id": "720396ca-8269-4aff-bf3f-4f751dd62f09",
   "metadata": {},
   "outputs": [],
   "source": [
    "# another data\n",
    "weather_data = pd.DataFrame({\n",
    "    \"City\": [\"Delhi\", \"Mumbai\", \"Chennai\", \"Kolkata\", \"Bangalore\", \"Hyderabad\", \"Jaipur\"],\n",
    "    \"Temperature\": [35, 30, 33, 34, 28, 32, 36],\n",
    "    \"Humidity\": [40, 70, 65, 60, 55, 50, 35],\n",
    "    \"WindSpeed\": [12, 8, 10, 9, 7, 11, 13],\n",
    "    \"Rainfall\": [2, 15, 8, 12, 5, 6, 1]\n",
    "})\n"
   ]
  },
  {
   "cell_type": "code",
   "execution_count": 131,
   "id": "5adf2815-b1bf-491b-8115-b3c54fc51363",
   "metadata": {},
   "outputs": [
    {
     "data": {
      "text/html": [
       "<div>\n",
       "<style scoped>\n",
       "    .dataframe tbody tr th:only-of-type {\n",
       "        vertical-align: middle;\n",
       "    }\n",
       "\n",
       "    .dataframe tbody tr th {\n",
       "        vertical-align: top;\n",
       "    }\n",
       "\n",
       "    .dataframe thead th {\n",
       "        text-align: right;\n",
       "    }\n",
       "</style>\n",
       "<table border=\"1\" class=\"dataframe\">\n",
       "  <thead>\n",
       "    <tr style=\"text-align: right;\">\n",
       "      <th></th>\n",
       "      <th>Temperature</th>\n",
       "      <th>Humidity</th>\n",
       "      <th>WindSpeed</th>\n",
       "      <th>Rainfall</th>\n",
       "    </tr>\n",
       "  </thead>\n",
       "  <tbody>\n",
       "    <tr>\n",
       "      <th>0</th>\n",
       "      <td>35</td>\n",
       "      <td>40</td>\n",
       "      <td>12</td>\n",
       "      <td>2</td>\n",
       "    </tr>\n",
       "    <tr>\n",
       "      <th>1</th>\n",
       "      <td>30</td>\n",
       "      <td>70</td>\n",
       "      <td>8</td>\n",
       "      <td>15</td>\n",
       "    </tr>\n",
       "    <tr>\n",
       "      <th>2</th>\n",
       "      <td>33</td>\n",
       "      <td>65</td>\n",
       "      <td>10</td>\n",
       "      <td>8</td>\n",
       "    </tr>\n",
       "    <tr>\n",
       "      <th>3</th>\n",
       "      <td>34</td>\n",
       "      <td>60</td>\n",
       "      <td>9</td>\n",
       "      <td>12</td>\n",
       "    </tr>\n",
       "    <tr>\n",
       "      <th>4</th>\n",
       "      <td>28</td>\n",
       "      <td>55</td>\n",
       "      <td>7</td>\n",
       "      <td>5</td>\n",
       "    </tr>\n",
       "    <tr>\n",
       "      <th>5</th>\n",
       "      <td>32</td>\n",
       "      <td>50</td>\n",
       "      <td>11</td>\n",
       "      <td>6</td>\n",
       "    </tr>\n",
       "    <tr>\n",
       "      <th>6</th>\n",
       "      <td>36</td>\n",
       "      <td>35</td>\n",
       "      <td>13</td>\n",
       "      <td>1</td>\n",
       "    </tr>\n",
       "  </tbody>\n",
       "</table>\n",
       "</div>"
      ],
      "text/plain": [
       "   Temperature  Humidity  WindSpeed  Rainfall\n",
       "0           35        40         12         2\n",
       "1           30        70          8        15\n",
       "2           33        65         10         8\n",
       "3           34        60          9        12\n",
       "4           28        55          7         5\n",
       "5           32        50         11         6\n",
       "6           36        35         13         1"
      ]
     },
     "execution_count": 131,
     "metadata": {},
     "output_type": "execute_result"
    }
   ],
   "source": [
    "details=weather_data[['Temperature','Humidity','WindSpeed','Rainfall']]\n",
    "details"
   ]
  },
  {
   "cell_type": "code",
   "execution_count": 113,
   "id": "dd6e1f7b-c44b-4ac5-b1c1-ac114324e296",
   "metadata": {},
   "outputs": [
    {
     "data": {
      "text/plain": [
       "City           0\n",
       "Temperature    0\n",
       "Humidity       0\n",
       "WindSpeed      0\n",
       "Rainfall       0\n",
       "dtype: int64"
      ]
     },
     "execution_count": 113,
     "metadata": {},
     "output_type": "execute_result"
    }
   ],
   "source": [
    "weather_data.isna().sum()"
   ]
  },
  {
   "cell_type": "code",
   "execution_count": 114,
   "id": "9f65471a-e975-409f-826e-e9f001005fb6",
   "metadata": {},
   "outputs": [
    {
     "data": {
      "text/plain": [
       "np.int64(0)"
      ]
     },
     "execution_count": 114,
     "metadata": {},
     "output_type": "execute_result"
    }
   ],
   "source": [
    "weather_data.duplicated().sum()"
   ]
  },
  {
   "cell_type": "code",
   "execution_count": 119,
   "id": "f136432a-664e-4c54-a1e0-b2605613cfc0",
   "metadata": {},
   "outputs": [
    {
     "data": {
      "text/plain": [
       "City\n",
       "Bangalore    28\n",
       "Chennai      33\n",
       "Delhi        35\n",
       "Hyderabad    32\n",
       "Jaipur       36\n",
       "Kolkata      34\n",
       "Mumbai       30\n",
       "Name: Temperature, dtype: int64"
      ]
     },
     "execution_count": 119,
     "metadata": {},
     "output_type": "execute_result"
    }
   ],
   "source": [
    "weather_data.groupby('City')['Temperature'].max()"
   ]
  },
  {
   "cell_type": "code",
   "execution_count": 121,
   "id": "658eab05-97fc-4b47-945a-660592cbf96e",
   "metadata": {},
   "outputs": [
    {
     "data": {
      "text/plain": [
       "'Jaipur'"
      ]
     },
     "execution_count": 121,
     "metadata": {},
     "output_type": "execute_result"
    }
   ],
   "source": [
    "hottest_city=weather_data.loc[weather_data['Temperature'].idxmax(),'City']\n",
    "hottest_city"
   ]
  },
  {
   "cell_type": "code",
   "execution_count": 124,
   "id": "26340bc2-0b6a-4c82-9c7b-a2c78e65a9db",
   "metadata": {},
   "outputs": [
    {
     "data": {
      "text/plain": [
       "'Mumbai'"
      ]
     },
     "execution_count": 124,
     "metadata": {},
     "output_type": "execute_result"
    }
   ],
   "source": [
    "humidity_city=weather_data.loc[weather_data['Humidity'].idxmax(),'City']\n",
    "humidity_city"
   ]
  },
  {
   "cell_type": "code",
   "execution_count": 128,
   "id": "5c47bb6d-9079-4f25-833b-4e6b99b6ac72",
   "metadata": {},
   "outputs": [],
   "source": [
    "weather_data['FeelsLike']=(weather_data[['Temperature','Humidity']].sum(axis=1))/10-weather_data['WindSpeed']"
   ]
  },
  {
   "cell_type": "code",
   "execution_count": 129,
   "id": "2e277ad7-58b0-40cb-86b4-fdbfc8285090",
   "metadata": {},
   "outputs": [
    {
     "data": {
      "text/html": [
       "<div>\n",
       "<style scoped>\n",
       "    .dataframe tbody tr th:only-of-type {\n",
       "        vertical-align: middle;\n",
       "    }\n",
       "\n",
       "    .dataframe tbody tr th {\n",
       "        vertical-align: top;\n",
       "    }\n",
       "\n",
       "    .dataframe thead th {\n",
       "        text-align: right;\n",
       "    }\n",
       "</style>\n",
       "<table border=\"1\" class=\"dataframe\">\n",
       "  <thead>\n",
       "    <tr style=\"text-align: right;\">\n",
       "      <th></th>\n",
       "      <th>City</th>\n",
       "      <th>Temperature</th>\n",
       "      <th>Humidity</th>\n",
       "      <th>WindSpeed</th>\n",
       "      <th>Rainfall</th>\n",
       "      <th>FeelsLike</th>\n",
       "    </tr>\n",
       "  </thead>\n",
       "  <tbody>\n",
       "    <tr>\n",
       "      <th>0</th>\n",
       "      <td>Delhi</td>\n",
       "      <td>35</td>\n",
       "      <td>40</td>\n",
       "      <td>12</td>\n",
       "      <td>2</td>\n",
       "      <td>-4.5</td>\n",
       "    </tr>\n",
       "    <tr>\n",
       "      <th>1</th>\n",
       "      <td>Mumbai</td>\n",
       "      <td>30</td>\n",
       "      <td>70</td>\n",
       "      <td>8</td>\n",
       "      <td>15</td>\n",
       "      <td>2.0</td>\n",
       "    </tr>\n",
       "    <tr>\n",
       "      <th>2</th>\n",
       "      <td>Chennai</td>\n",
       "      <td>33</td>\n",
       "      <td>65</td>\n",
       "      <td>10</td>\n",
       "      <td>8</td>\n",
       "      <td>-0.2</td>\n",
       "    </tr>\n",
       "    <tr>\n",
       "      <th>3</th>\n",
       "      <td>Kolkata</td>\n",
       "      <td>34</td>\n",
       "      <td>60</td>\n",
       "      <td>9</td>\n",
       "      <td>12</td>\n",
       "      <td>0.4</td>\n",
       "    </tr>\n",
       "    <tr>\n",
       "      <th>4</th>\n",
       "      <td>Bangalore</td>\n",
       "      <td>28</td>\n",
       "      <td>55</td>\n",
       "      <td>7</td>\n",
       "      <td>5</td>\n",
       "      <td>1.3</td>\n",
       "    </tr>\n",
       "    <tr>\n",
       "      <th>5</th>\n",
       "      <td>Hyderabad</td>\n",
       "      <td>32</td>\n",
       "      <td>50</td>\n",
       "      <td>11</td>\n",
       "      <td>6</td>\n",
       "      <td>-2.8</td>\n",
       "    </tr>\n",
       "    <tr>\n",
       "      <th>6</th>\n",
       "      <td>Jaipur</td>\n",
       "      <td>36</td>\n",
       "      <td>35</td>\n",
       "      <td>13</td>\n",
       "      <td>1</td>\n",
       "      <td>-5.9</td>\n",
       "    </tr>\n",
       "  </tbody>\n",
       "</table>\n",
       "</div>"
      ],
      "text/plain": [
       "        City  Temperature  Humidity  WindSpeed  Rainfall  FeelsLike\n",
       "0      Delhi           35        40         12         2       -4.5\n",
       "1     Mumbai           30        70          8        15        2.0\n",
       "2    Chennai           33        65         10         8       -0.2\n",
       "3    Kolkata           34        60          9        12        0.4\n",
       "4  Bangalore           28        55          7         5        1.3\n",
       "5  Hyderabad           32        50         11         6       -2.8\n",
       "6     Jaipur           36        35         13         1       -5.9"
      ]
     },
     "execution_count": 129,
     "metadata": {},
     "output_type": "execute_result"
    }
   ],
   "source": [
    "weather_data"
   ]
  },
  {
   "cell_type": "code",
   "execution_count": 133,
   "id": "24d50818-325f-442e-9c00-1655b166fb4f",
   "metadata": {},
   "outputs": [
    {
     "name": "stdout",
     "output_type": "stream",
     "text": [
      "   Temperature    Humidity   WindSpeed    Rainfall\n",
      "0         87.5   14.285714   83.333333    7.142857\n",
      "1         25.0  100.000000   16.666667  100.000000\n",
      "2         62.5   85.714286   50.000000   50.000000\n",
      "3         75.0   71.428571   33.333333   78.571429\n",
      "4          0.0   57.142857    0.000000   28.571429\n",
      "5         50.0   42.857143   66.666667   35.714286\n",
      "6        100.0    0.000000  100.000000    0.000000\n"
     ]
    }
   ],
   "source": [
    "normalized=(details-details.min())/(details.max()-details.min())*100\n",
    "print(normalized)"
   ]
  },
  {
   "cell_type": "code",
   "execution_count": 137,
   "id": "19748a65-4ea3-44ad-bccb-e81fe49349a0",
   "metadata": {},
   "outputs": [
    {
     "data": {
      "text/html": [
       "<div>\n",
       "<style scoped>\n",
       "    .dataframe tbody tr th:only-of-type {\n",
       "        vertical-align: middle;\n",
       "    }\n",
       "\n",
       "    .dataframe tbody tr th {\n",
       "        vertical-align: top;\n",
       "    }\n",
       "\n",
       "    .dataframe thead th {\n",
       "        text-align: right;\n",
       "    }\n",
       "</style>\n",
       "<table border=\"1\" class=\"dataframe\">\n",
       "  <thead>\n",
       "    <tr style=\"text-align: right;\">\n",
       "      <th></th>\n",
       "      <th>City</th>\n",
       "      <th>Temperature</th>\n",
       "      <th>Humidity</th>\n",
       "      <th>WindSpeed</th>\n",
       "      <th>Rainfall</th>\n",
       "    </tr>\n",
       "  </thead>\n",
       "  <tbody>\n",
       "    <tr>\n",
       "      <th>0</th>\n",
       "      <td>Delhi</td>\n",
       "      <td>87.5</td>\n",
       "      <td>14.285714</td>\n",
       "      <td>83.333333</td>\n",
       "      <td>7.142857</td>\n",
       "    </tr>\n",
       "    <tr>\n",
       "      <th>1</th>\n",
       "      <td>Mumbai</td>\n",
       "      <td>25.0</td>\n",
       "      <td>100.000000</td>\n",
       "      <td>16.666667</td>\n",
       "      <td>100.000000</td>\n",
       "    </tr>\n",
       "    <tr>\n",
       "      <th>2</th>\n",
       "      <td>Chennai</td>\n",
       "      <td>62.5</td>\n",
       "      <td>85.714286</td>\n",
       "      <td>50.000000</td>\n",
       "      <td>50.000000</td>\n",
       "    </tr>\n",
       "    <tr>\n",
       "      <th>3</th>\n",
       "      <td>Kolkata</td>\n",
       "      <td>75.0</td>\n",
       "      <td>71.428571</td>\n",
       "      <td>33.333333</td>\n",
       "      <td>78.571429</td>\n",
       "    </tr>\n",
       "    <tr>\n",
       "      <th>4</th>\n",
       "      <td>Bangalore</td>\n",
       "      <td>0.0</td>\n",
       "      <td>57.142857</td>\n",
       "      <td>0.000000</td>\n",
       "      <td>28.571429</td>\n",
       "    </tr>\n",
       "    <tr>\n",
       "      <th>5</th>\n",
       "      <td>Hyderabad</td>\n",
       "      <td>50.0</td>\n",
       "      <td>42.857143</td>\n",
       "      <td>66.666667</td>\n",
       "      <td>35.714286</td>\n",
       "    </tr>\n",
       "    <tr>\n",
       "      <th>6</th>\n",
       "      <td>Jaipur</td>\n",
       "      <td>100.0</td>\n",
       "      <td>0.000000</td>\n",
       "      <td>100.000000</td>\n",
       "      <td>0.000000</td>\n",
       "    </tr>\n",
       "  </tbody>\n",
       "</table>\n",
       "</div>"
      ],
      "text/plain": [
       "        City  Temperature    Humidity   WindSpeed    Rainfall\n",
       "0      Delhi         87.5   14.285714   83.333333    7.142857\n",
       "1     Mumbai         25.0  100.000000   16.666667  100.000000\n",
       "2    Chennai         62.5   85.714286   50.000000   50.000000\n",
       "3    Kolkata         75.0   71.428571   33.333333   78.571429\n",
       "4  Bangalore          0.0   57.142857    0.000000   28.571429\n",
       "5  Hyderabad         50.0   42.857143   66.666667   35.714286\n",
       "6     Jaipur        100.0    0.000000  100.000000    0.000000"
      ]
     },
     "execution_count": 137,
     "metadata": {},
     "output_type": "execute_result"
    }
   ],
   "source": [
    "normalized_value=pd.concat([weather_data['City'],normalized],axis=1)\n",
    "normalized_value"
   ]
  },
  {
   "cell_type": "code",
   "execution_count": 139,
   "id": "8818a548-9924-40ae-9667-1e6efd1fb0fe",
   "metadata": {},
   "outputs": [
    {
     "data": {
      "text/html": [
       "<div>\n",
       "<style scoped>\n",
       "    .dataframe tbody tr th:only-of-type {\n",
       "        vertical-align: middle;\n",
       "    }\n",
       "\n",
       "    .dataframe tbody tr th {\n",
       "        vertical-align: top;\n",
       "    }\n",
       "\n",
       "    .dataframe thead th {\n",
       "        text-align: right;\n",
       "    }\n",
       "</style>\n",
       "<table border=\"1\" class=\"dataframe\">\n",
       "  <thead>\n",
       "    <tr style=\"text-align: right;\">\n",
       "      <th></th>\n",
       "      <th>OrderID</th>\n",
       "      <th>Customer</th>\n",
       "      <th>Product</th>\n",
       "      <th>Category</th>\n",
       "      <th>Quantity</th>\n",
       "      <th>Price</th>\n",
       "      <th>Discount</th>\n",
       "      <th>City</th>\n",
       "    </tr>\n",
       "  </thead>\n",
       "  <tbody>\n",
       "    <tr>\n",
       "      <th>0</th>\n",
       "      <td>101</td>\n",
       "      <td>Alice</td>\n",
       "      <td>Laptop</td>\n",
       "      <td>Electronics</td>\n",
       "      <td>1</td>\n",
       "      <td>75000</td>\n",
       "      <td>5000</td>\n",
       "      <td>Delhi</td>\n",
       "    </tr>\n",
       "    <tr>\n",
       "      <th>1</th>\n",
       "      <td>102</td>\n",
       "      <td>Bob</td>\n",
       "      <td>Mobile</td>\n",
       "      <td>Electronics</td>\n",
       "      <td>2</td>\n",
       "      <td>25000</td>\n",
       "      <td>2000</td>\n",
       "      <td>Mumbai</td>\n",
       "    </tr>\n",
       "    <tr>\n",
       "      <th>2</th>\n",
       "      <td>103</td>\n",
       "      <td>Charlie</td>\n",
       "      <td>Headphones</td>\n",
       "      <td>Accessories</td>\n",
       "      <td>1</td>\n",
       "      <td>2000</td>\n",
       "      <td>200</td>\n",
       "      <td>Chennai</td>\n",
       "    </tr>\n",
       "    <tr>\n",
       "      <th>3</th>\n",
       "      <td>104</td>\n",
       "      <td>David</td>\n",
       "      <td>Laptop</td>\n",
       "      <td>Electronics</td>\n",
       "      <td>1</td>\n",
       "      <td>80000</td>\n",
       "      <td>8000</td>\n",
       "      <td>Kolkata</td>\n",
       "    </tr>\n",
       "    <tr>\n",
       "      <th>4</th>\n",
       "      <td>105</td>\n",
       "      <td>Eva</td>\n",
       "      <td>Mobile</td>\n",
       "      <td>Electronics</td>\n",
       "      <td>3</td>\n",
       "      <td>26000</td>\n",
       "      <td>3000</td>\n",
       "      <td>Delhi</td>\n",
       "    </tr>\n",
       "    <tr>\n",
       "      <th>5</th>\n",
       "      <td>106</td>\n",
       "      <td>Frank</td>\n",
       "      <td>Tablet</td>\n",
       "      <td>Electronics</td>\n",
       "      <td>2</td>\n",
       "      <td>30000</td>\n",
       "      <td>2500</td>\n",
       "      <td>Bangalore</td>\n",
       "    </tr>\n",
       "    <tr>\n",
       "      <th>6</th>\n",
       "      <td>107</td>\n",
       "      <td>Grace</td>\n",
       "      <td>Laptop</td>\n",
       "      <td>Electronics</td>\n",
       "      <td>1</td>\n",
       "      <td>70000</td>\n",
       "      <td>4000</td>\n",
       "      <td>Hyderabad</td>\n",
       "    </tr>\n",
       "    <tr>\n",
       "      <th>7</th>\n",
       "      <td>108</td>\n",
       "      <td>Hannah</td>\n",
       "      <td>Headphones</td>\n",
       "      <td>Accessories</td>\n",
       "      <td>4</td>\n",
       "      <td>2200</td>\n",
       "      <td>400</td>\n",
       "      <td>Mumbai</td>\n",
       "    </tr>\n",
       "  </tbody>\n",
       "</table>\n",
       "</div>"
      ],
      "text/plain": [
       "   OrderID Customer     Product     Category  Quantity  Price  Discount  \\\n",
       "0      101    Alice      Laptop  Electronics         1  75000      5000   \n",
       "1      102      Bob      Mobile  Electronics         2  25000      2000   \n",
       "2      103  Charlie  Headphones  Accessories         1   2000       200   \n",
       "3      104    David      Laptop  Electronics         1  80000      8000   \n",
       "4      105      Eva      Mobile  Electronics         3  26000      3000   \n",
       "5      106    Frank      Tablet  Electronics         2  30000      2500   \n",
       "6      107    Grace      Laptop  Electronics         1  70000      4000   \n",
       "7      108   Hannah  Headphones  Accessories         4   2200       400   \n",
       "\n",
       "        City  \n",
       "0      Delhi  \n",
       "1     Mumbai  \n",
       "2    Chennai  \n",
       "3    Kolkata  \n",
       "4      Delhi  \n",
       "5  Bangalore  \n",
       "6  Hyderabad  \n",
       "7     Mumbai  "
      ]
     },
     "execution_count": 139,
     "metadata": {},
     "output_type": "execute_result"
    }
   ],
   "source": [
    "#practice number 3A\n",
    "sales_data = pd.DataFrame({\n",
    "    \"OrderID\": [101, 102, 103, 104, 105, 106, 107, 108],\n",
    "    \"Customer\": [\"Alice\", \"Bob\", \"Charlie\", \"David\", \"Eva\", \"Frank\", \"Grace\", \"Hannah\"],\n",
    "    \"Product\": [\"Laptop\", \"Mobile\", \"Headphones\", \"Laptop\", \"Mobile\", \"Tablet\", \"Laptop\", \"Headphones\"],\n",
    "    \"Category\": [\"Electronics\", \"Electronics\", \"Accessories\", \"Electronics\", \"Electronics\", \"Electronics\", \"Electronics\", \"Accessories\"],\n",
    "    \"Quantity\": [1, 2, 1, 1, 3, 2, 1, 4],\n",
    "    \"Price\": [75000, 25000, 2000, 80000, 26000, 30000, 70000, 2200],\n",
    "    \"Discount\": [5000, 2000, 200, 8000, 3000, 2500, 4000, 400],\n",
    "    \"City\": [\"Delhi\", \"Mumbai\", \"Chennai\", \"Kolkata\", \"Delhi\", \"Bangalore\", \"Hyderabad\", \"Mumbai\"]\n",
    "})\n",
    "sales_data\n",
    "\n"
   ]
  },
  {
   "cell_type": "code",
   "execution_count": 140,
   "id": "f3c75faf-f003-4c8f-a650-67a0917c75fe",
   "metadata": {},
   "outputs": [
    {
     "data": {
      "text/plain": [
       "['Category',\n",
       " 'City',\n",
       " 'Customer',\n",
       " 'Discount',\n",
       " 'OrderID',\n",
       " 'Price',\n",
       " 'Product',\n",
       " 'Quantity']"
      ]
     },
     "execution_count": 140,
     "metadata": {},
     "output_type": "execute_result"
    }
   ],
   "source": [
    "sorted(sales_data)"
   ]
  },
  {
   "cell_type": "code",
   "execution_count": 141,
   "id": "ed53491c-a882-4595-a45b-0f5761be5121",
   "metadata": {},
   "outputs": [
    {
     "data": {
      "text/html": [
       "<div>\n",
       "<style scoped>\n",
       "    .dataframe tbody tr th:only-of-type {\n",
       "        vertical-align: middle;\n",
       "    }\n",
       "\n",
       "    .dataframe tbody tr th {\n",
       "        vertical-align: top;\n",
       "    }\n",
       "\n",
       "    .dataframe thead th {\n",
       "        text-align: right;\n",
       "    }\n",
       "</style>\n",
       "<table border=\"1\" class=\"dataframe\">\n",
       "  <thead>\n",
       "    <tr style=\"text-align: right;\">\n",
       "      <th></th>\n",
       "      <th>OrderID</th>\n",
       "      <th>Customer</th>\n",
       "      <th>Product</th>\n",
       "      <th>Category</th>\n",
       "      <th>Quantity</th>\n",
       "      <th>Price</th>\n",
       "      <th>Discount</th>\n",
       "      <th>City</th>\n",
       "    </tr>\n",
       "  </thead>\n",
       "  <tbody>\n",
       "    <tr>\n",
       "      <th>0</th>\n",
       "      <td>101</td>\n",
       "      <td>Alice</td>\n",
       "      <td>Laptop</td>\n",
       "      <td>Electronics</td>\n",
       "      <td>1</td>\n",
       "      <td>75000</td>\n",
       "      <td>5000</td>\n",
       "      <td>Delhi</td>\n",
       "    </tr>\n",
       "    <tr>\n",
       "      <th>1</th>\n",
       "      <td>102</td>\n",
       "      <td>Bob</td>\n",
       "      <td>Mobile</td>\n",
       "      <td>Electronics</td>\n",
       "      <td>2</td>\n",
       "      <td>25000</td>\n",
       "      <td>2000</td>\n",
       "      <td>Mumbai</td>\n",
       "    </tr>\n",
       "    <tr>\n",
       "      <th>2</th>\n",
       "      <td>103</td>\n",
       "      <td>Charlie</td>\n",
       "      <td>Headphones</td>\n",
       "      <td>Accessories</td>\n",
       "      <td>1</td>\n",
       "      <td>2000</td>\n",
       "      <td>200</td>\n",
       "      <td>Chennai</td>\n",
       "    </tr>\n",
       "    <tr>\n",
       "      <th>3</th>\n",
       "      <td>104</td>\n",
       "      <td>David</td>\n",
       "      <td>Laptop</td>\n",
       "      <td>Electronics</td>\n",
       "      <td>1</td>\n",
       "      <td>80000</td>\n",
       "      <td>8000</td>\n",
       "      <td>Kolkata</td>\n",
       "    </tr>\n",
       "    <tr>\n",
       "      <th>4</th>\n",
       "      <td>105</td>\n",
       "      <td>Eva</td>\n",
       "      <td>Mobile</td>\n",
       "      <td>Electronics</td>\n",
       "      <td>3</td>\n",
       "      <td>26000</td>\n",
       "      <td>3000</td>\n",
       "      <td>Delhi</td>\n",
       "    </tr>\n",
       "    <tr>\n",
       "      <th>5</th>\n",
       "      <td>106</td>\n",
       "      <td>Frank</td>\n",
       "      <td>Tablet</td>\n",
       "      <td>Electronics</td>\n",
       "      <td>2</td>\n",
       "      <td>30000</td>\n",
       "      <td>2500</td>\n",
       "      <td>Bangalore</td>\n",
       "    </tr>\n",
       "    <tr>\n",
       "      <th>6</th>\n",
       "      <td>107</td>\n",
       "      <td>Grace</td>\n",
       "      <td>Laptop</td>\n",
       "      <td>Electronics</td>\n",
       "      <td>1</td>\n",
       "      <td>70000</td>\n",
       "      <td>4000</td>\n",
       "      <td>Hyderabad</td>\n",
       "    </tr>\n",
       "    <tr>\n",
       "      <th>7</th>\n",
       "      <td>108</td>\n",
       "      <td>Hannah</td>\n",
       "      <td>Headphones</td>\n",
       "      <td>Accessories</td>\n",
       "      <td>4</td>\n",
       "      <td>2200</td>\n",
       "      <td>400</td>\n",
       "      <td>Mumbai</td>\n",
       "    </tr>\n",
       "  </tbody>\n",
       "</table>\n",
       "</div>"
      ],
      "text/plain": [
       "   OrderID Customer     Product     Category  Quantity  Price  Discount  \\\n",
       "0      101    Alice      Laptop  Electronics         1  75000      5000   \n",
       "1      102      Bob      Mobile  Electronics         2  25000      2000   \n",
       "2      103  Charlie  Headphones  Accessories         1   2000       200   \n",
       "3      104    David      Laptop  Electronics         1  80000      8000   \n",
       "4      105      Eva      Mobile  Electronics         3  26000      3000   \n",
       "5      106    Frank      Tablet  Electronics         2  30000      2500   \n",
       "6      107    Grace      Laptop  Electronics         1  70000      4000   \n",
       "7      108   Hannah  Headphones  Accessories         4   2200       400   \n",
       "\n",
       "        City  \n",
       "0      Delhi  \n",
       "1     Mumbai  \n",
       "2    Chennai  \n",
       "3    Kolkata  \n",
       "4      Delhi  \n",
       "5  Bangalore  \n",
       "6  Hyderabad  \n",
       "7     Mumbai  "
      ]
     },
     "execution_count": 141,
     "metadata": {},
     "output_type": "execute_result"
    }
   ],
   "source": [
    "sales_data"
   ]
  },
  {
   "cell_type": "code",
   "execution_count": 144,
   "id": "ff5fc168-5357-4c94-aa43-d075615e3d10",
   "metadata": {},
   "outputs": [],
   "source": [
    "sales_data['TotalAmount']=sales_data['Quantity']*sales_data['Price']-sales_data['Discount']"
   ]
  },
  {
   "cell_type": "code",
   "execution_count": 145,
   "id": "c81167e4-288d-4582-b29d-5b0efe4e5640",
   "metadata": {},
   "outputs": [
    {
     "data": {
      "text/html": [
       "<div>\n",
       "<style scoped>\n",
       "    .dataframe tbody tr th:only-of-type {\n",
       "        vertical-align: middle;\n",
       "    }\n",
       "\n",
       "    .dataframe tbody tr th {\n",
       "        vertical-align: top;\n",
       "    }\n",
       "\n",
       "    .dataframe thead th {\n",
       "        text-align: right;\n",
       "    }\n",
       "</style>\n",
       "<table border=\"1\" class=\"dataframe\">\n",
       "  <thead>\n",
       "    <tr style=\"text-align: right;\">\n",
       "      <th></th>\n",
       "      <th>OrderID</th>\n",
       "      <th>Customer</th>\n",
       "      <th>Product</th>\n",
       "      <th>Category</th>\n",
       "      <th>Quantity</th>\n",
       "      <th>Price</th>\n",
       "      <th>Discount</th>\n",
       "      <th>City</th>\n",
       "      <th>TotalAmount</th>\n",
       "    </tr>\n",
       "  </thead>\n",
       "  <tbody>\n",
       "    <tr>\n",
       "      <th>0</th>\n",
       "      <td>101</td>\n",
       "      <td>Alice</td>\n",
       "      <td>Laptop</td>\n",
       "      <td>Electronics</td>\n",
       "      <td>1</td>\n",
       "      <td>75000</td>\n",
       "      <td>5000</td>\n",
       "      <td>Delhi</td>\n",
       "      <td>70000</td>\n",
       "    </tr>\n",
       "    <tr>\n",
       "      <th>1</th>\n",
       "      <td>102</td>\n",
       "      <td>Bob</td>\n",
       "      <td>Mobile</td>\n",
       "      <td>Electronics</td>\n",
       "      <td>2</td>\n",
       "      <td>25000</td>\n",
       "      <td>2000</td>\n",
       "      <td>Mumbai</td>\n",
       "      <td>48000</td>\n",
       "    </tr>\n",
       "    <tr>\n",
       "      <th>2</th>\n",
       "      <td>103</td>\n",
       "      <td>Charlie</td>\n",
       "      <td>Headphones</td>\n",
       "      <td>Accessories</td>\n",
       "      <td>1</td>\n",
       "      <td>2000</td>\n",
       "      <td>200</td>\n",
       "      <td>Chennai</td>\n",
       "      <td>1800</td>\n",
       "    </tr>\n",
       "    <tr>\n",
       "      <th>3</th>\n",
       "      <td>104</td>\n",
       "      <td>David</td>\n",
       "      <td>Laptop</td>\n",
       "      <td>Electronics</td>\n",
       "      <td>1</td>\n",
       "      <td>80000</td>\n",
       "      <td>8000</td>\n",
       "      <td>Kolkata</td>\n",
       "      <td>72000</td>\n",
       "    </tr>\n",
       "    <tr>\n",
       "      <th>4</th>\n",
       "      <td>105</td>\n",
       "      <td>Eva</td>\n",
       "      <td>Mobile</td>\n",
       "      <td>Electronics</td>\n",
       "      <td>3</td>\n",
       "      <td>26000</td>\n",
       "      <td>3000</td>\n",
       "      <td>Delhi</td>\n",
       "      <td>75000</td>\n",
       "    </tr>\n",
       "    <tr>\n",
       "      <th>5</th>\n",
       "      <td>106</td>\n",
       "      <td>Frank</td>\n",
       "      <td>Tablet</td>\n",
       "      <td>Electronics</td>\n",
       "      <td>2</td>\n",
       "      <td>30000</td>\n",
       "      <td>2500</td>\n",
       "      <td>Bangalore</td>\n",
       "      <td>57500</td>\n",
       "    </tr>\n",
       "    <tr>\n",
       "      <th>6</th>\n",
       "      <td>107</td>\n",
       "      <td>Grace</td>\n",
       "      <td>Laptop</td>\n",
       "      <td>Electronics</td>\n",
       "      <td>1</td>\n",
       "      <td>70000</td>\n",
       "      <td>4000</td>\n",
       "      <td>Hyderabad</td>\n",
       "      <td>66000</td>\n",
       "    </tr>\n",
       "    <tr>\n",
       "      <th>7</th>\n",
       "      <td>108</td>\n",
       "      <td>Hannah</td>\n",
       "      <td>Headphones</td>\n",
       "      <td>Accessories</td>\n",
       "      <td>4</td>\n",
       "      <td>2200</td>\n",
       "      <td>400</td>\n",
       "      <td>Mumbai</td>\n",
       "      <td>8400</td>\n",
       "    </tr>\n",
       "  </tbody>\n",
       "</table>\n",
       "</div>"
      ],
      "text/plain": [
       "   OrderID Customer     Product     Category  Quantity  Price  Discount  \\\n",
       "0      101    Alice      Laptop  Electronics         1  75000      5000   \n",
       "1      102      Bob      Mobile  Electronics         2  25000      2000   \n",
       "2      103  Charlie  Headphones  Accessories         1   2000       200   \n",
       "3      104    David      Laptop  Electronics         1  80000      8000   \n",
       "4      105      Eva      Mobile  Electronics         3  26000      3000   \n",
       "5      106    Frank      Tablet  Electronics         2  30000      2500   \n",
       "6      107    Grace      Laptop  Electronics         1  70000      4000   \n",
       "7      108   Hannah  Headphones  Accessories         4   2200       400   \n",
       "\n",
       "        City  TotalAmount  \n",
       "0      Delhi        70000  \n",
       "1     Mumbai        48000  \n",
       "2    Chennai         1800  \n",
       "3    Kolkata        72000  \n",
       "4      Delhi        75000  \n",
       "5  Bangalore        57500  \n",
       "6  Hyderabad        66000  \n",
       "7     Mumbai         8400  "
      ]
     },
     "execution_count": 145,
     "metadata": {},
     "output_type": "execute_result"
    }
   ],
   "source": [
    "sales_data"
   ]
  },
  {
   "cell_type": "code",
   "execution_count": 146,
   "id": "396f28fe-2069-44e5-ae79-9e641ebcf4f8",
   "metadata": {},
   "outputs": [],
   "source": [
    "sales_data=sales_data.sort_values(by='TotalAmount')"
   ]
  },
  {
   "cell_type": "code",
   "execution_count": 147,
   "id": "ecc5ba0d-ccee-4b2f-b38d-3854b440ded2",
   "metadata": {},
   "outputs": [
    {
     "data": {
      "text/html": [
       "<div>\n",
       "<style scoped>\n",
       "    .dataframe tbody tr th:only-of-type {\n",
       "        vertical-align: middle;\n",
       "    }\n",
       "\n",
       "    .dataframe tbody tr th {\n",
       "        vertical-align: top;\n",
       "    }\n",
       "\n",
       "    .dataframe thead th {\n",
       "        text-align: right;\n",
       "    }\n",
       "</style>\n",
       "<table border=\"1\" class=\"dataframe\">\n",
       "  <thead>\n",
       "    <tr style=\"text-align: right;\">\n",
       "      <th></th>\n",
       "      <th>OrderID</th>\n",
       "      <th>Customer</th>\n",
       "      <th>Product</th>\n",
       "      <th>Category</th>\n",
       "      <th>Quantity</th>\n",
       "      <th>Price</th>\n",
       "      <th>Discount</th>\n",
       "      <th>City</th>\n",
       "      <th>TotalAmount</th>\n",
       "    </tr>\n",
       "  </thead>\n",
       "  <tbody>\n",
       "    <tr>\n",
       "      <th>2</th>\n",
       "      <td>103</td>\n",
       "      <td>Charlie</td>\n",
       "      <td>Headphones</td>\n",
       "      <td>Accessories</td>\n",
       "      <td>1</td>\n",
       "      <td>2000</td>\n",
       "      <td>200</td>\n",
       "      <td>Chennai</td>\n",
       "      <td>1800</td>\n",
       "    </tr>\n",
       "    <tr>\n",
       "      <th>7</th>\n",
       "      <td>108</td>\n",
       "      <td>Hannah</td>\n",
       "      <td>Headphones</td>\n",
       "      <td>Accessories</td>\n",
       "      <td>4</td>\n",
       "      <td>2200</td>\n",
       "      <td>400</td>\n",
       "      <td>Mumbai</td>\n",
       "      <td>8400</td>\n",
       "    </tr>\n",
       "    <tr>\n",
       "      <th>1</th>\n",
       "      <td>102</td>\n",
       "      <td>Bob</td>\n",
       "      <td>Mobile</td>\n",
       "      <td>Electronics</td>\n",
       "      <td>2</td>\n",
       "      <td>25000</td>\n",
       "      <td>2000</td>\n",
       "      <td>Mumbai</td>\n",
       "      <td>48000</td>\n",
       "    </tr>\n",
       "    <tr>\n",
       "      <th>5</th>\n",
       "      <td>106</td>\n",
       "      <td>Frank</td>\n",
       "      <td>Tablet</td>\n",
       "      <td>Electronics</td>\n",
       "      <td>2</td>\n",
       "      <td>30000</td>\n",
       "      <td>2500</td>\n",
       "      <td>Bangalore</td>\n",
       "      <td>57500</td>\n",
       "    </tr>\n",
       "    <tr>\n",
       "      <th>6</th>\n",
       "      <td>107</td>\n",
       "      <td>Grace</td>\n",
       "      <td>Laptop</td>\n",
       "      <td>Electronics</td>\n",
       "      <td>1</td>\n",
       "      <td>70000</td>\n",
       "      <td>4000</td>\n",
       "      <td>Hyderabad</td>\n",
       "      <td>66000</td>\n",
       "    </tr>\n",
       "    <tr>\n",
       "      <th>0</th>\n",
       "      <td>101</td>\n",
       "      <td>Alice</td>\n",
       "      <td>Laptop</td>\n",
       "      <td>Electronics</td>\n",
       "      <td>1</td>\n",
       "      <td>75000</td>\n",
       "      <td>5000</td>\n",
       "      <td>Delhi</td>\n",
       "      <td>70000</td>\n",
       "    </tr>\n",
       "    <tr>\n",
       "      <th>3</th>\n",
       "      <td>104</td>\n",
       "      <td>David</td>\n",
       "      <td>Laptop</td>\n",
       "      <td>Electronics</td>\n",
       "      <td>1</td>\n",
       "      <td>80000</td>\n",
       "      <td>8000</td>\n",
       "      <td>Kolkata</td>\n",
       "      <td>72000</td>\n",
       "    </tr>\n",
       "    <tr>\n",
       "      <th>4</th>\n",
       "      <td>105</td>\n",
       "      <td>Eva</td>\n",
       "      <td>Mobile</td>\n",
       "      <td>Electronics</td>\n",
       "      <td>3</td>\n",
       "      <td>26000</td>\n",
       "      <td>3000</td>\n",
       "      <td>Delhi</td>\n",
       "      <td>75000</td>\n",
       "    </tr>\n",
       "  </tbody>\n",
       "</table>\n",
       "</div>"
      ],
      "text/plain": [
       "   OrderID Customer     Product     Category  Quantity  Price  Discount  \\\n",
       "2      103  Charlie  Headphones  Accessories         1   2000       200   \n",
       "7      108   Hannah  Headphones  Accessories         4   2200       400   \n",
       "1      102      Bob      Mobile  Electronics         2  25000      2000   \n",
       "5      106    Frank      Tablet  Electronics         2  30000      2500   \n",
       "6      107    Grace      Laptop  Electronics         1  70000      4000   \n",
       "0      101    Alice      Laptop  Electronics         1  75000      5000   \n",
       "3      104    David      Laptop  Electronics         1  80000      8000   \n",
       "4      105      Eva      Mobile  Electronics         3  26000      3000   \n",
       "\n",
       "        City  TotalAmount  \n",
       "2    Chennai         1800  \n",
       "7     Mumbai         8400  \n",
       "1     Mumbai        48000  \n",
       "5  Bangalore        57500  \n",
       "6  Hyderabad        66000  \n",
       "0      Delhi        70000  \n",
       "3    Kolkata        72000  \n",
       "4      Delhi        75000  "
      ]
     },
     "execution_count": 147,
     "metadata": {},
     "output_type": "execute_result"
    }
   ],
   "source": [
    "sales_data"
   ]
  },
  {
   "cell_type": "code",
   "execution_count": 148,
   "id": "ac14c4cd-3100-4d50-87ef-fc8fa0cfd509",
   "metadata": {},
   "outputs": [
    {
     "data": {
      "text/html": [
       "<div>\n",
       "<style scoped>\n",
       "    .dataframe tbody tr th:only-of-type {\n",
       "        vertical-align: middle;\n",
       "    }\n",
       "\n",
       "    .dataframe tbody tr th {\n",
       "        vertical-align: top;\n",
       "    }\n",
       "\n",
       "    .dataframe thead th {\n",
       "        text-align: right;\n",
       "    }\n",
       "</style>\n",
       "<table border=\"1\" class=\"dataframe\">\n",
       "  <thead>\n",
       "    <tr style=\"text-align: right;\">\n",
       "      <th></th>\n",
       "      <th>OrderID</th>\n",
       "      <th>Customer</th>\n",
       "      <th>Product</th>\n",
       "      <th>Category</th>\n",
       "      <th>Quantity</th>\n",
       "      <th>Price</th>\n",
       "      <th>Discount</th>\n",
       "      <th>City</th>\n",
       "      <th>TotalAmount</th>\n",
       "    </tr>\n",
       "  </thead>\n",
       "  <tbody>\n",
       "    <tr>\n",
       "      <th>0</th>\n",
       "      <td>101</td>\n",
       "      <td>Alice</td>\n",
       "      <td>Laptop</td>\n",
       "      <td>Electronics</td>\n",
       "      <td>1</td>\n",
       "      <td>75000</td>\n",
       "      <td>5000</td>\n",
       "      <td>Delhi</td>\n",
       "      <td>70000</td>\n",
       "    </tr>\n",
       "    <tr>\n",
       "      <th>3</th>\n",
       "      <td>104</td>\n",
       "      <td>David</td>\n",
       "      <td>Laptop</td>\n",
       "      <td>Electronics</td>\n",
       "      <td>1</td>\n",
       "      <td>80000</td>\n",
       "      <td>8000</td>\n",
       "      <td>Kolkata</td>\n",
       "      <td>72000</td>\n",
       "    </tr>\n",
       "    <tr>\n",
       "      <th>4</th>\n",
       "      <td>105</td>\n",
       "      <td>Eva</td>\n",
       "      <td>Mobile</td>\n",
       "      <td>Electronics</td>\n",
       "      <td>3</td>\n",
       "      <td>26000</td>\n",
       "      <td>3000</td>\n",
       "      <td>Delhi</td>\n",
       "      <td>75000</td>\n",
       "    </tr>\n",
       "  </tbody>\n",
       "</table>\n",
       "</div>"
      ],
      "text/plain": [
       "   OrderID Customer Product     Category  Quantity  Price  Discount     City  \\\n",
       "0      101    Alice  Laptop  Electronics         1  75000      5000    Delhi   \n",
       "3      104    David  Laptop  Electronics         1  80000      8000  Kolkata   \n",
       "4      105      Eva  Mobile  Electronics         3  26000      3000    Delhi   \n",
       "\n",
       "   TotalAmount  \n",
       "0        70000  \n",
       "3        72000  \n",
       "4        75000  "
      ]
     },
     "execution_count": 148,
     "metadata": {},
     "output_type": "execute_result"
    }
   ],
   "source": [
    "sales_data.tail(3)"
   ]
  },
  {
   "cell_type": "code",
   "execution_count": 150,
   "id": "4fe2dc6b-97b5-4439-b922-691a9a9818e5",
   "metadata": {},
   "outputs": [],
   "source": [
    "sales_data.rename(columns={'TotalAmount':'TotalSales'},inplace=True)"
   ]
  },
  {
   "cell_type": "code",
   "execution_count": 151,
   "id": "a6963ba5-2b81-41fd-bccb-c593baaa8a7a",
   "metadata": {},
   "outputs": [
    {
     "data": {
      "text/html": [
       "<div>\n",
       "<style scoped>\n",
       "    .dataframe tbody tr th:only-of-type {\n",
       "        vertical-align: middle;\n",
       "    }\n",
       "\n",
       "    .dataframe tbody tr th {\n",
       "        vertical-align: top;\n",
       "    }\n",
       "\n",
       "    .dataframe thead th {\n",
       "        text-align: right;\n",
       "    }\n",
       "</style>\n",
       "<table border=\"1\" class=\"dataframe\">\n",
       "  <thead>\n",
       "    <tr style=\"text-align: right;\">\n",
       "      <th></th>\n",
       "      <th>OrderID</th>\n",
       "      <th>Customer</th>\n",
       "      <th>Product</th>\n",
       "      <th>Category</th>\n",
       "      <th>Quantity</th>\n",
       "      <th>Price</th>\n",
       "      <th>Discount</th>\n",
       "      <th>City</th>\n",
       "      <th>TotalSales</th>\n",
       "    </tr>\n",
       "  </thead>\n",
       "  <tbody>\n",
       "    <tr>\n",
       "      <th>2</th>\n",
       "      <td>103</td>\n",
       "      <td>Charlie</td>\n",
       "      <td>Headphones</td>\n",
       "      <td>Accessories</td>\n",
       "      <td>1</td>\n",
       "      <td>2000</td>\n",
       "      <td>200</td>\n",
       "      <td>Chennai</td>\n",
       "      <td>1800</td>\n",
       "    </tr>\n",
       "    <tr>\n",
       "      <th>7</th>\n",
       "      <td>108</td>\n",
       "      <td>Hannah</td>\n",
       "      <td>Headphones</td>\n",
       "      <td>Accessories</td>\n",
       "      <td>4</td>\n",
       "      <td>2200</td>\n",
       "      <td>400</td>\n",
       "      <td>Mumbai</td>\n",
       "      <td>8400</td>\n",
       "    </tr>\n",
       "    <tr>\n",
       "      <th>1</th>\n",
       "      <td>102</td>\n",
       "      <td>Bob</td>\n",
       "      <td>Mobile</td>\n",
       "      <td>Electronics</td>\n",
       "      <td>2</td>\n",
       "      <td>25000</td>\n",
       "      <td>2000</td>\n",
       "      <td>Mumbai</td>\n",
       "      <td>48000</td>\n",
       "    </tr>\n",
       "    <tr>\n",
       "      <th>5</th>\n",
       "      <td>106</td>\n",
       "      <td>Frank</td>\n",
       "      <td>Tablet</td>\n",
       "      <td>Electronics</td>\n",
       "      <td>2</td>\n",
       "      <td>30000</td>\n",
       "      <td>2500</td>\n",
       "      <td>Bangalore</td>\n",
       "      <td>57500</td>\n",
       "    </tr>\n",
       "    <tr>\n",
       "      <th>6</th>\n",
       "      <td>107</td>\n",
       "      <td>Grace</td>\n",
       "      <td>Laptop</td>\n",
       "      <td>Electronics</td>\n",
       "      <td>1</td>\n",
       "      <td>70000</td>\n",
       "      <td>4000</td>\n",
       "      <td>Hyderabad</td>\n",
       "      <td>66000</td>\n",
       "    </tr>\n",
       "    <tr>\n",
       "      <th>0</th>\n",
       "      <td>101</td>\n",
       "      <td>Alice</td>\n",
       "      <td>Laptop</td>\n",
       "      <td>Electronics</td>\n",
       "      <td>1</td>\n",
       "      <td>75000</td>\n",
       "      <td>5000</td>\n",
       "      <td>Delhi</td>\n",
       "      <td>70000</td>\n",
       "    </tr>\n",
       "    <tr>\n",
       "      <th>3</th>\n",
       "      <td>104</td>\n",
       "      <td>David</td>\n",
       "      <td>Laptop</td>\n",
       "      <td>Electronics</td>\n",
       "      <td>1</td>\n",
       "      <td>80000</td>\n",
       "      <td>8000</td>\n",
       "      <td>Kolkata</td>\n",
       "      <td>72000</td>\n",
       "    </tr>\n",
       "    <tr>\n",
       "      <th>4</th>\n",
       "      <td>105</td>\n",
       "      <td>Eva</td>\n",
       "      <td>Mobile</td>\n",
       "      <td>Electronics</td>\n",
       "      <td>3</td>\n",
       "      <td>26000</td>\n",
       "      <td>3000</td>\n",
       "      <td>Delhi</td>\n",
       "      <td>75000</td>\n",
       "    </tr>\n",
       "  </tbody>\n",
       "</table>\n",
       "</div>"
      ],
      "text/plain": [
       "   OrderID Customer     Product     Category  Quantity  Price  Discount  \\\n",
       "2      103  Charlie  Headphones  Accessories         1   2000       200   \n",
       "7      108   Hannah  Headphones  Accessories         4   2200       400   \n",
       "1      102      Bob      Mobile  Electronics         2  25000      2000   \n",
       "5      106    Frank      Tablet  Electronics         2  30000      2500   \n",
       "6      107    Grace      Laptop  Electronics         1  70000      4000   \n",
       "0      101    Alice      Laptop  Electronics         1  75000      5000   \n",
       "3      104    David      Laptop  Electronics         1  80000      8000   \n",
       "4      105      Eva      Mobile  Electronics         3  26000      3000   \n",
       "\n",
       "        City  TotalSales  \n",
       "2    Chennai        1800  \n",
       "7     Mumbai        8400  \n",
       "1     Mumbai       48000  \n",
       "5  Bangalore       57500  \n",
       "6  Hyderabad       66000  \n",
       "0      Delhi       70000  \n",
       "3    Kolkata       72000  \n",
       "4      Delhi       75000  "
      ]
     },
     "execution_count": 151,
     "metadata": {},
     "output_type": "execute_result"
    }
   ],
   "source": [
    "sales_data"
   ]
  },
  {
   "cell_type": "code",
   "execution_count": 153,
   "id": "e2c54c6d-3e6f-411d-8510-f44658a9ad66",
   "metadata": {},
   "outputs": [
    {
     "data": {
      "text/plain": [
       "City\n",
       "Bangalore     57500\n",
       "Chennai        1800\n",
       "Delhi        145000\n",
       "Hyderabad     66000\n",
       "Kolkata       72000\n",
       "Mumbai        56400\n",
       "Name: TotalSales, dtype: int64"
      ]
     },
     "execution_count": 153,
     "metadata": {},
     "output_type": "execute_result"
    }
   ],
   "source": [
    "Total_Sales=sales_data.groupby('City')['TotalSales'].sum()\n",
    "Total_Sales"
   ]
  },
  {
   "cell_type": "code",
   "execution_count": null,
   "id": "3e4f375d-2057-4faa-afd8-aa6bb30112b1",
   "metadata": {},
   "outputs": [],
   "source": []
  },
  {
   "cell_type": "code",
   "execution_count": 159,
   "id": "78ced1e1-938d-4fd1-8a36-61fa590937ca",
   "metadata": {},
   "outputs": [
    {
     "data": {
      "text/html": [
       "<div>\n",
       "<style scoped>\n",
       "    .dataframe tbody tr th:only-of-type {\n",
       "        vertical-align: middle;\n",
       "    }\n",
       "\n",
       "    .dataframe tbody tr th {\n",
       "        vertical-align: top;\n",
       "    }\n",
       "\n",
       "    .dataframe thead th {\n",
       "        text-align: right;\n",
       "    }\n",
       "</style>\n",
       "<table border=\"1\" class=\"dataframe\">\n",
       "  <thead>\n",
       "    <tr style=\"text-align: right;\">\n",
       "      <th></th>\n",
       "      <th>mean</th>\n",
       "      <th>sum</th>\n",
       "    </tr>\n",
       "    <tr>\n",
       "      <th>Product</th>\n",
       "      <th></th>\n",
       "      <th></th>\n",
       "    </tr>\n",
       "  </thead>\n",
       "  <tbody>\n",
       "    <tr>\n",
       "      <th>Headphones</th>\n",
       "      <td>5100.000000</td>\n",
       "      <td>10200</td>\n",
       "    </tr>\n",
       "    <tr>\n",
       "      <th>Laptop</th>\n",
       "      <td>69333.333333</td>\n",
       "      <td>208000</td>\n",
       "    </tr>\n",
       "    <tr>\n",
       "      <th>Mobile</th>\n",
       "      <td>61500.000000</td>\n",
       "      <td>123000</td>\n",
       "    </tr>\n",
       "    <tr>\n",
       "      <th>Tablet</th>\n",
       "      <td>57500.000000</td>\n",
       "      <td>57500</td>\n",
       "    </tr>\n",
       "  </tbody>\n",
       "</table>\n",
       "</div>"
      ],
      "text/plain": [
       "                    mean     sum\n",
       "Product                         \n",
       "Headphones   5100.000000   10200\n",
       "Laptop      69333.333333  208000\n",
       "Mobile      61500.000000  123000\n",
       "Tablet      57500.000000   57500"
      ]
     },
     "execution_count": 159,
     "metadata": {},
     "output_type": "execute_result"
    }
   ],
   "source": [
    "Average_price=sales_data.groupby('Product')['TotalSales'].agg(['mean','sum'])\n",
    "Average_price\n"
   ]
  },
  {
   "cell_type": "code",
   "execution_count": 163,
   "id": "38402795-5471-48c8-a45d-f506c99a8a7b",
   "metadata": {},
   "outputs": [
    {
     "data": {
      "text/plain": [
       "np.float64(-0.6284250681102551)"
      ]
     },
     "execution_count": 163,
     "metadata": {},
     "output_type": "execute_result"
    }
   ],
   "source": [
    "#CorrelationA\n",
    "\n",
    "correlation=sales_data['Price'].corr(sales_data['Quantity'])\n",
    "correlation"
   ]
  },
  {
   "cell_type": "code",
   "execution_count": 164,
   "id": "f81d7d02-6399-467c-969f-820fb12e05e8",
   "metadata": {},
   "outputs": [],
   "source": [
    "correlation=sales_data['Quantity'].corr(sales_data['Discount'])"
   ]
  },
  {
   "cell_type": "code",
   "execution_count": 165,
   "id": "17ce07d9-7f0c-497a-962d-f9c7222f8f06",
   "metadata": {},
   "outputs": [
    {
     "name": "stdout",
     "output_type": "stream",
     "text": [
      "   OrderID Customer     Product     Category  Quantity  Price  Discount  \\\n",
      "2      103  Charlie  Headphones  Accessories         1   2000       200   \n",
      "7      108   Hannah  Headphones  Accessories         4   2200       400   \n",
      "1      102      Bob      Mobile  Electronics         2  25000      2000   \n",
      "5      106    Frank      Tablet  Electronics         2  30000      2500   \n",
      "6      107    Grace      Laptop  Electronics         1  70000      4000   \n",
      "0      101    Alice      Laptop  Electronics         1  75000      5000   \n",
      "3      104    David      Laptop  Electronics         1  80000      8000   \n",
      "4      105      Eva      Mobile  Electronics         3  26000      3000   \n",
      "\n",
      "        City  TotalSales  Quantity_norm  Price_norm  \n",
      "2    Chennai        1800      33.333333   29.487179  \n",
      "7     Mumbai        8400      66.666667   30.769231  \n",
      "1     Mumbai       48000     100.000000    0.256410  \n",
      "5  Bangalore       57500       0.000000   93.589744  \n",
      "6  Hyderabad       66000       0.000000  100.000000  \n",
      "0      Delhi       70000       0.000000    0.000000  \n",
      "3    Kolkata       72000      33.333333   35.897436  \n",
      "4      Delhi       75000       0.000000   87.179487  \n"
     ]
    }
   ],
   "source": [
    "cols_to_normalize = [\"Quantity\", \"Price\"]\n",
    "\n",
    "# Convert to NumPy array\n",
    "arr = sales_data[cols_to_normalize].values.astype(float)\n",
    "\n",
    "# Min-Max normalization\n",
    "normalized = (arr - arr.min(axis=0)) / (arr.max(axis=0) - arr.min(axis=0)) * 100\n",
    "\n",
    "# Put back into DataFrame\n",
    "normalized_df = pd.DataFrame(normalized, columns=[\"Quantity_norm\", \"Price_norm\"])\n",
    "\n",
    "# Concatenate with original DataFrame\n",
    "sales_normalized = pd.concat([sales_data, normalized_df], axis=1)\n",
    "\n",
    "print(sales_normalized)"
   ]
  }
 ],
 "metadata": {
  "kernelspec": {
   "display_name": "Python 3 (ipykernel)",
   "language": "python",
   "name": "python3"
  },
  "language_info": {
   "codemirror_mode": {
    "name": "ipython",
    "version": 3
   },
   "file_extension": ".py",
   "mimetype": "text/x-python",
   "name": "python",
   "nbconvert_exporter": "python",
   "pygments_lexer": "ipython3",
   "version": "3.12.8"
  },
  "widgets": {
   "application/vnd.jupyter.widget-state+json": {
    "state": {},
    "version_major": 2,
    "version_minor": 0
   }
  }
 },
 "nbformat": 4,
 "nbformat_minor": 5
}
