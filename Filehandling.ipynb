{
 "cells": [
  {
   "cell_type": "code",
   "execution_count": 5,
   "id": "9e418b0f-9d35-485d-9492-56440039a688",
   "metadata": {},
   "outputs": [
    {
     "ename": "ValueError",
     "evalue": "I/O operation on closed file.",
     "output_type": "error",
     "traceback": [
      "\u001b[1;31m---------------------------------------------------------------------------\u001b[0m",
      "\u001b[1;31mValueError\u001b[0m                                Traceback (most recent call last)",
      "Cell \u001b[1;32mIn[5], line 5\u001b[0m\n\u001b[0;32m      3\u001b[0m f\u001b[38;5;241m.\u001b[39mwrite(\u001b[38;5;124m'\u001b[39m\u001b[38;5;124mhello world\u001b[39m\u001b[38;5;124m'\u001b[39m)\n\u001b[0;32m      4\u001b[0m f\u001b[38;5;241m.\u001b[39mclose()\n\u001b[1;32m----> 5\u001b[0m \u001b[43mf\u001b[49m\u001b[38;5;241;43m.\u001b[39;49m\u001b[43mwrite\u001b[49m\u001b[43m(\u001b[49m\u001b[38;5;124;43m'\u001b[39;49m\u001b[38;5;124;43mhello mohan\u001b[39;49m\u001b[38;5;124;43m'\u001b[39;49m\u001b[43m)\u001b[49m\n",
      "\u001b[1;31mValueError\u001b[0m: I/O operation on closed file."
     ]
    }
   ],
   "source": [
    "#case 1 - if the file is nor present \n",
    "f=open('sample.txt','w')\n",
    "f.write('hello world')\n",
    "f.close()\n",
    "# since file is closed hence this will not worked\n",
    "# f.write('hello mohan') "
   ]
  },
  {
   "cell_type": "code",
   "execution_count": 6,
   "id": "c46b73f5-28ca-48c9-80dd-c9040c8cd69a",
   "metadata": {},
   "outputs": [],
   "source": [
    "#write multiline strings\n",
    "f=open('sample.txt','w')\n",
    "f.write('hello world')\n",
    "f.write('\\n how are you?')\n",
    "f.close()"
   ]
  },
  {
   "cell_type": "code",
   "execution_count": 8,
   "id": "2e22d950-c0d8-4950-9a8d-00a95fca4108",
   "metadata": {},
   "outputs": [],
   "source": [
    "f=open('sample1.txt','w')\n",
    "f.write('Hello mohan')\n",
    "f.close()"
   ]
  },
  {
   "cell_type": "code",
   "execution_count": 12,
   "id": "401ecac5-529f-4338-a137-e19c64d01723",
   "metadata": {},
   "outputs": [],
   "source": [
    "f=open('sample.txt','a')\n",
    "f.write('\\n I am a fine')\n",
    "f.close()"
   ]
  },
  {
   "cell_type": "code",
   "execution_count": 13,
   "id": "3e1c71c3-d5d3-427c-adfc-5bb2b42d5c75",
   "metadata": {},
   "outputs": [],
   "source": [
    "#write lConnectionResetError\n",
    "L=['hello\\n','hi\\n','how are you\\n','i am fine\\n']\n",
    "\n",
    "f=open('sample2.tex','w')\n",
    "f.writelines(L)\n",
    "f.close()"
   ]
  },
  {
   "cell_type": "code",
   "execution_count": 11,
   "id": "26629077-0bf5-45fa-9418-f1aa14c44988",
   "metadata": {},
   "outputs": [
    {
     "name": "stdout",
     "output_type": "stream",
     "text": [
      "m\n",
      "o\n",
      "h\n",
      "a\n",
      "n\n",
      "s\n",
      "h\n",
      "y\n",
      "a\n",
      "m\n",
      "a\n",
      "k\n",
      "h\n",
      "i\n",
      "l\n"
     ]
    }
   ],
   "source": [
    "#Reading from files \n",
    "with open('sample.txt','r') as f:\n",
    "    data=f.readline()\n",
    "    for data1 in data:\n",
    "       # print(type(data))\n",
    "       print(data1) "
   ]
  },
  {
   "cell_type": "code",
   "execution_count": 5,
   "id": "046a9707-25ed-4675-aaa3-217f6989b288",
   "metadata": {},
   "outputs": [
    {
     "name": "stdin",
     "output_type": "stream",
     "text": [
      "Enter the text : akhil\n"
     ]
    }
   ],
   "source": [
    "with open('sample.txt','a') as f:\n",
    "    user=input('Enter the text :')\n",
    "    f.write(user)\n",
    "    "
   ]
  },
  {
   "cell_type": "code",
   "execution_count": 44,
   "id": "cb9178eb-e797-4511-bd66-14dcf34e9ec3",
   "metadata": {},
   "outputs": [],
   "source": [
    "class Person:\n",
    "    def __init__(self,fname,lname, age, city):\n",
    "        self.fname=fname\n",
    "        self.lname=lname\n",
    "        self.age=age\n",
    "        self.city=city \n",
    "\n"
   ]
  },
  {
   "cell_type": "code",
   "execution_count": 45,
   "id": "46efeef5-f629-4488-acdd-e856042e1e24",
   "metadata": {},
   "outputs": [],
   "source": [
    "person=Person('Akhil','Sah',22,'Janakpur')\n"
   ]
  },
  {
   "cell_type": "code",
   "execution_count": 48,
   "id": "a31be0db-678c-4e93-9d98-a9d15fbb0466",
   "metadata": {},
   "outputs": [],
   "source": [
    "def show_value(person):\n",
    "    if isinstance(person,Person):\n",
    "        return{\n",
    "            'fname':person.fname,\n",
    "            'lname':person.lname,\n",
    "            'age': person.age,\n",
    "            'city':person.city\n",
    "            \n",
    "            \n",
    "        }"
   ]
  },
  {
   "cell_type": "code",
   "execution_count": 49,
   "id": "d891b898-e6ac-4253-8ed1-bab768584836",
   "metadata": {},
   "outputs": [],
   "source": [
    "import json\n",
    "with open('demo.json','w') as f:\n",
    "    data=json.dump(person,f,default=show_value, indent=4)"
   ]
  },
  {
   "cell_type": "code",
   "execution_count": 57,
   "id": "10e7df70-165a-4c30-b19c-248a0824b32a",
   "metadata": {},
   "outputs": [],
   "source": [
    "import csv,json\n",
    "l=[]\n",
    "with open('student_marks.csv','r') as f:\n",
    " data=csv.DictReader(f)\n",
    " for row in data:\n",
    "     l.append(row)\n",
    "\n",
    "\n"
   ]
  },
  {
   "cell_type": "code",
   "execution_count": 58,
   "id": "77d6856c-4010-4e1d-970b-1858b3960c36",
   "metadata": {},
   "outputs": [],
   "source": [
    "with open ('student.json','w') as f:\n",
    "    data1=json.dump(l,f)"
   ]
  },
  {
   "cell_type": "code",
   "execution_count": 60,
   "id": "ebacb664-fe95-4372-9c8d-e3d9ff1bb7a5",
   "metadata": {},
   "outputs": [],
   "source": [
    "#pickle \n",
    "\n",
    "import pickle\n",
    "l=[1,2,3,4,5,5]\n",
    "with open('demo.pkl', 'wb') as f:\n",
    "    pickle.dump(l,f)"
   ]
  },
  {
   "cell_type": "code",
   "execution_count": 61,
   "id": "e1e9d323-772a-46bf-9b6b-dd0ddef0f3d4",
   "metadata": {},
   "outputs": [
    {
     "name": "stdout",
     "output_type": "stream",
     "text": [
      "[1, 2, 3, 4, 5, 5]\n"
     ]
    }
   ],
   "source": [
    "with open('demo.pkl','rb') as f:\n",
    "    data=pickle.load(f)\n",
    "    print(data)"
   ]
  }
 ],
 "metadata": {
  "kernelspec": {
   "display_name": "Python 3 (ipykernel)",
   "language": "python",
   "name": "python3"
  },
  "language_info": {
   "codemirror_mode": {
    "name": "ipython",
    "version": 3
   },
   "file_extension": ".py",
   "mimetype": "text/x-python",
   "name": "python",
   "nbconvert_exporter": "python",
   "pygments_lexer": "ipython3",
   "version": "3.12.8"
  },
  "widgets": {
   "application/vnd.jupyter.widget-state+json": {
    "state": {},
    "version_major": 2,
    "version_minor": 0
   }
  }
 },
 "nbformat": 4,
 "nbformat_minor": 5
}
