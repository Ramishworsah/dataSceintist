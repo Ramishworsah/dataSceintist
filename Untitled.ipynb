{
 "cells": [
  {
   "cell_type": "code",
   "execution_count": 1,
   "id": "9f61eb2b-4ec0-43fa-b2da-91f5b61a2fb2",
   "metadata": {},
   "outputs": [
    {
     "name": "stdout",
     "output_type": "stream",
     "text": [
      "The original value before the swapping are : (7, 8) \n",
      "The original value after the swapping are : (8, 7) \n"
     ]
    }
   ],
   "source": [
    "#python weeek 1abs\n",
    "# 1. write a python program to swap two variables \n",
    "a=7\n",
    "b=8\n",
    "temp=0\n",
    "print(f\"The original value before the swapping are : { a,b} \")\n",
    "temp=b\n",
    "b=a\n",
    "a=temp\n",
    "print(f\"The original value after the swapping are : { a,b} \")\n",
    "\n"
   ]
  },
  {
   "cell_type": "code",
   "execution_count": 10,
   "id": "2081f305-4f93-495d-9504-288747159247",
   "metadata": {},
   "outputs": [
    {
     "name": "stdout",
     "output_type": "stream",
     "text": [
      "10 8\n"
     ]
    }
   ],
   "source": [
    "x=8\n",
    "y=10\n",
    "x,y=y,x\n",
    "print(x,y)\n",
    "\n"
   ]
  },
  {
   "cell_type": "code",
   "execution_count": 11,
   "id": "90bc798d-fb81-4d09-b36e-23700becc6ad",
   "metadata": {},
   "outputs": [
    {
     "name": "stdin",
     "output_type": "stream",
     "text": [
      "Enter the value from user : 5\n"
     ]
    },
    {
     "name": "stdout",
     "output_type": "stream",
     "text": [
      "you are values :  5\n"
     ]
    }
   ],
   "source": [
    "num=int(input(\"Enter the value from user :\"))\n",
    "print(f\"you are values : \" , num)"
   ]
  },
  {
   "cell_type": "code",
   "execution_count": 12,
   "id": "4538e751-706b-4731-8195-c3cfe463a241",
   "metadata": {},
   "outputs": [
    {
     "name": "stdin",
     "output_type": "stream",
     "text": [
      "Enter the value from user : 5\n"
     ]
    },
    {
     "name": "stdout",
     "output_type": "stream",
     "text": [
      "The given number is odd : 5\n"
     ]
    }
   ],
   "source": [
    "# 3. wrte a program to check if a  number is even or odd\n",
    "num=int(input(\"Enter the value from user :\"))\n",
    "if num %2==0:\n",
    "    print(f\"The given number is even : { num }\")\n",
    "else:\n",
    "    print(f'The given number is odd : { num}')"
   ]
  },
  {
   "cell_type": "code",
   "execution_count": 13,
   "id": "12ee37c0-f34d-457c-9b46-e976b7a0c0d3",
   "metadata": {},
   "outputs": [
    {
     "name": "stdin",
     "output_type": "stream",
     "text": [
      "Enter the number  to generate the multiplication tables : 5\n"
     ]
    },
    {
     "name": "stdout",
     "output_type": "stream",
     "text": [
      "The multiplication tables are :\n",
      "5 * 1  ==  5\n",
      "5 * 2  ==  10\n",
      "5 * 3  ==  15\n",
      "5 * 4  ==  20\n",
      "5 * 5  ==  25\n",
      "5 * 6  ==  30\n",
      "5 * 7  ==  35\n",
      "5 * 8  ==  40\n",
      "5 * 9  ==  45\n",
      "5 * 10  ==  50\n"
     ]
    }
   ],
   "source": [
    "# 4. create a program that prints the multiplication tabel of a given number \n",
    "num=int(input(\"Enter the number  to generate the multiplication tables :\"))\n",
    "\n",
    "print(\"The multiplication tables are :\")\n",
    "for i in range (1,11):\n",
    "    print(num,'*',i , \" == \" , num*i)\n",
    "    "
   ]
  },
  {
   "cell_type": "code",
   "execution_count": 14,
   "id": "024c6f11-b09b-4585-bdd4-cf0294ff9bdc",
   "metadata": {},
   "outputs": [
    {
     "name": "stdin",
     "output_type": "stream",
     "text": [
      "Enter the fist number : 5\n",
      "Enter the second number : 10\n",
      "Enter the third number : 2\n"
     ]
    },
    {
     "name": "stdout",
     "output_type": "stream",
     "text": [
      "10\n"
     ]
    }
   ],
   "source": [
    "# 4.wrtie a program t find the largest of three numbers.\n",
    "num=int(input(\"Enter the fist number :\"))\n",
    "num1=int(input(\"Enter the second number :\"))\n",
    "num2=int(input(\"Enter the third number :\"))\n",
    "if num>num1 and num> num2:\n",
    "    print(num)\n",
    "elif num1 > num and num1 > num2:\n",
    "    print(num1)\n",
    "else:\n",
    "    print(num3)"
   ]
  },
  {
   "cell_type": "code",
   "execution_count": 17,
   "id": "c4abf338-0153-4338-819b-0bd20007a071",
   "metadata": {},
   "outputs": [
    {
     "name": "stdin",
     "output_type": "stream",
     "text": [
      "Enter the number : 5\n"
     ]
    },
    {
     "name": "stdout",
     "output_type": "stream",
     "text": [
      "The factorial of the given number is : 120\n"
     ]
    }
   ],
   "source": [
    "# 7. write a program to calculate the factorial of a number using a loop\n",
    "num=int(input(\"Enter the number :\"))\n",
    "fact=1\n",
    "for i in range(1,num+1):\n",
    "    fact=fact*i\n",
    "\n",
    "\n",
    "print(f\"The factorial of the given number is : {fact}\")\n"
   ]
  },
  {
   "cell_type": "code",
   "execution_count": 18,
   "id": "e188416e-899c-4c4f-ab60-55a30210f082",
   "metadata": {},
   "outputs": [
    {
     "name": "stdout",
     "output_type": "stream",
     "text": [
      "120\n"
     ]
    }
   ],
   "source": [
    "#usig while lLookupError\n",
    "\n",
    "while i> num:\n",
    "    fact=fact*num\n",
    "    num-=1\n",
    "    i+=1\n",
    "print(fact)"
   ]
  },
  {
   "cell_type": "code",
   "execution_count": 19,
   "id": "449272f5-2108-46e8-b4a3-7bff716afe8c",
   "metadata": {},
   "outputs": [
    {
     "name": "stdout",
     "output_type": "stream",
     "text": [
      "['h', 'e', 'l', 'l', 'o', 'a', 'k', 'h', 'i', 'l', 'm', 'a', 'y', 'u', 'n', 'i', 't']\n"
     ]
    }
   ],
   "source": [
    "# 8. create  a program to count the number of vowels in a string \n",
    "string='helloakhilmayunit'\n",
    "list1=list(string)\n",
    "print(list1)"
   ]
  },
  {
   "cell_type": "code",
   "execution_count": 21,
   "id": "28ccb85c-16ee-449d-878e-616311b44384",
   "metadata": {},
   "outputs": [
    {
     "name": "stdout",
     "output_type": "stream",
     "text": [
      "1\n"
     ]
    }
   ],
   "source": [
    "# list2=['i','o','u','a','e']\n",
    "# count=0\n",
    "# for list1 in list1:\n",
    "#     count+=1\n",
    "\n",
    "# print(count)"
   ]
  },
  {
   "cell_type": "code",
   "execution_count": 23,
   "id": "36645ad1-9a60-4538-a3f5-f232ee493bb1",
   "metadata": {},
   "outputs": [
    {
     "name": "stdout",
     "output_type": "stream",
     "text": [
      "The total number of vowel inside the string are  :7\n"
     ]
    }
   ],
   "source": [
    "texts=\"helloakhilmayunit\"\n",
    "vowels='aieuoAIEUO'\n",
    "count=0\n",
    "for ch in texts:\n",
    "    if ch in vowels:\n",
    "        count+=1\n",
    "print(f\"The total number of vowel inside the string are  :{count}\")\n"
   ]
  },
  {
   "cell_type": "code",
   "execution_count": 24,
   "id": "b31a89fa-63fc-4d54-9cf4-463660471ecb",
   "metadata": {},
   "outputs": [
    {
     "data": {
      "text/plain": [
       "'lihka'"
      ]
     },
     "execution_count": 24,
     "metadata": {},
     "output_type": "execute_result"
    }
   ],
   "source": [
    "#inversie of sRuntimeWarning\n",
    "text='akhil'\n",
    "text[::-1]"
   ]
  },
  {
   "cell_type": "code",
   "execution_count": 1,
   "id": "ff09497b-d5b1-4583-a564-78e4846c2ba8",
   "metadata": {},
   "outputs": [
    {
     "name": "stdin",
     "output_type": "stream",
     "text": [
      "enter the digit from user : 121\n"
     ]
    },
    {
     "name": "stdout",
     "output_type": "stream",
     "text": [
      "3\n",
      "the given number is : 121 palindrome\n"
     ]
    }
   ],
   "source": [
    "# 10 check if a number is palindrome \n",
    "digit =int(input(\"enter the digit from user :\"))\n",
    "str1=str(digit)\n",
    "order=len(str1)\n",
    "print(order)\n",
    "num=digit\n",
    "reverse=0\n",
    "while digit>0:\n",
    "     rem=digit%10\n",
    "     reverse=reverse*10+rem\n",
    "     digit//=10\n",
    "   \n",
    "if reverse == num:\n",
    "    print(f\"the given number is : {num} palindrome\")\n",
    "else:\n",
    "    print(f\"The given numebr is not : {num} palindrome \")"
   ]
  },
  {
   "cell_type": "code",
   "execution_count": 2,
   "id": "67252876-a5f9-4ded-89d4-75ef8e0336dd",
   "metadata": {},
   "outputs": [
    {
     "name": "stdin",
     "output_type": "stream",
     "text": [
      "enter the digit from user : 153\n"
     ]
    },
    {
     "name": "stdout",
     "output_type": "stream",
     "text": [
      "3\n",
      "the given number is : 153 armstrong number\n"
     ]
    }
   ],
   "source": [
    "#create a armstrong number \n",
    "digit =int(input(\"enter the digit from user :\"))\n",
    "str1=str(digit)\n",
    "order=len(str1)\n",
    "print(order)\n",
    "num=digit\n",
    "reverse=0\n",
    "while digit>0:\n",
    "     rem=digit%10\n",
    "     reverse+=rem**order\n",
    "     digit//=10\n",
    "    # count+=1\n",
    "if reverse == num:\n",
    "    print(f\"the given number is : {reverse} armstrong number\")\n",
    "else:\n",
    "    print(f\"The given numebr is not : {reverse}  armstrong number \")"
   ]
  },
  {
   "cell_type": "code",
   "execution_count": 2,
   "id": "c189a9be-159c-4399-8c4b-b045c3165c31",
   "metadata": {},
   "outputs": [
    {
     "name": "stdout",
     "output_type": "stream",
     "text": [
      "2\n",
      "3\n",
      "5\n",
      "7\n",
      "11\n",
      "13\n",
      "17\n",
      "19\n",
      "23\n",
      "29\n",
      "31\n",
      "37\n",
      "41\n",
      "43\n",
      "47\n",
      "53\n",
      "59\n",
      "61\n",
      "67\n",
      "71\n",
      "73\n",
      "79\n",
      "83\n",
      "89\n",
      "97\n"
     ]
    }
   ],
   "source": [
    "# write a program to print all prime numbers between 1 to 100\n",
    "\n",
    "for i in range (1,101):\n",
    "    count=0\n",
    "    for j in range (1,i+1):\n",
    "        if i%j==0:\n",
    "            count+=1\n",
    "    if count==2:\n",
    "        print(i)\n",
    "        "
   ]
  },
  {
   "cell_type": "code",
   "execution_count": null,
   "id": "e7161c4c-3116-47c5-8471-0c2f367f3d80",
   "metadata": {},
   "outputs": [],
   "source": []
  }
 ],
 "metadata": {
  "kernelspec": {
   "display_name": "Python 3 (ipykernel)",
   "language": "python",
   "name": "python3"
  },
  "language_info": {
   "codemirror_mode": {
    "name": "ipython",
    "version": 3
   },
   "file_extension": ".py",
   "mimetype": "text/x-python",
   "name": "python",
   "nbconvert_exporter": "python",
   "pygments_lexer": "ipython3",
   "version": "3.12.8"
  },
  "widgets": {
   "application/vnd.jupyter.widget-state+json": {
    "state": {},
    "version_major": 2,
    "version_minor": 0
   }
  }
 },
 "nbformat": 4,
 "nbformat_minor": 5
}
